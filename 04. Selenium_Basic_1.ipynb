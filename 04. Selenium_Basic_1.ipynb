{
 "cells": [
  {
   "cell_type": "markdown",
   "id": "637ee304-8f86-4b28-b212-f7a3207f2a87",
   "metadata": {},
   "source": [
    "# Selenium Basic\n",
    "- https://www.selenium.dev/selenium/docs/api/py/webdriver_chrome/selenium.webdriver.chrome.service.html#module-selenium.webdriver.chrome.service"
   ]
  },
  {
   "cell_type": "markdown",
   "id": "a673e115-1f06-4559-b5cb-1e91c1cb02aa",
   "metadata": {},
   "source": [
    "#### 1. Selenium webdriver 사용하기"
   ]
  },
  {
   "cell_type": "code",
   "execution_count": 57,
   "id": "b90d9dfe-5031-4db4-9788-4b2ae8bcb1ed",
   "metadata": {},
   "outputs": [],
   "source": [
    "from selenium.webdriver.chrome.service import Service as ChromeService\n",
    "from selenium import webdriver\n",
    "\n",
    "driver = ChromeService(executable_path='../driver/chromedriver.exe')\n",
    "driver = webdriver.Chrome()\n",
    "driver.get('http://pinkwink.kr')"
   ]
  },
  {
   "cell_type": "code",
   "execution_count": 31,
   "id": "42b55187-0f87-4825-b7d5-f90cc5814043",
   "metadata": {},
   "outputs": [],
   "source": [
    "# 화면 최대 크기 설정\n",
    "driver.maximize_window()"
   ]
  },
  {
   "cell_type": "code",
   "execution_count": 33,
   "id": "942de3dc-906d-41e9-82fb-5691c5102380",
   "metadata": {},
   "outputs": [],
   "source": [
    "#화면 최소 크기 설정\n",
    "driver.minimize_window()"
   ]
  },
  {
   "cell_type": "code",
   "execution_count": 34,
   "id": "5e72bf4d-2901-41ea-a9d0-4a106cc0c692",
   "metadata": {},
   "outputs": [],
   "source": [
    "#화면 크기 설정\n",
    "driver.set_window_size(600,600)"
   ]
  },
  {
   "cell_type": "code",
   "execution_count": 35,
   "id": "6d66dd84-d7eb-42f1-9e48-f23fa28cd8b4",
   "metadata": {},
   "outputs": [],
   "source": [
    "#새로 고침\n",
    "driver.refresh()"
   ]
  },
  {
   "cell_type": "code",
   "execution_count": 36,
   "id": "18b7cbfa-89c4-4350-b584-9d8e75b5d8f0",
   "metadata": {},
   "outputs": [],
   "source": [
    "#뒤로 가기\n",
    "driver.back()"
   ]
  },
  {
   "cell_type": "code",
   "execution_count": 37,
   "id": "603a2cfe-91a3-4813-9855-8606fe4e7028",
   "metadata": {},
   "outputs": [],
   "source": [
    "#앞으로 가기\n",
    "driver.forward()"
   ]
  },
  {
   "cell_type": "code",
   "execution_count": 46,
   "id": "95405a9f-31e0-47c4-8ffa-70a7376a0aab",
   "metadata": {},
   "outputs": [],
   "source": [
    "#클릭 하기\n",
    "from selenium.webdriver.common.by import By\n",
    "\n",
    "first_content = driver.find_element(By.CSS_SELECTOR,'#content > div.cover-masonry > div > ul > li:nth-child(1)')\n",
    "first_content.click()"
   ]
  },
  {
   "cell_type": "code",
   "execution_count": 50,
   "id": "4f10b956-d9f2-4468-aa43-5f7bdbabda97",
   "metadata": {},
   "outputs": [],
   "source": [
    "# 새로운 탭 생성하기\n",
    "driver.execute_script('window.open(\"http://www.naver.com\")')"
   ]
  },
  {
   "cell_type": "code",
   "execution_count": 55,
   "id": "215aca32-2139-4859-84b2-6057ecbcd95f",
   "metadata": {},
   "outputs": [],
   "source": [
    "# 탭 이동\n",
    "driver.switch_to.window(driver.window_handles[0])"
   ]
  },
  {
   "cell_type": "code",
   "execution_count": 53,
   "id": "2711ec81-dcc5-4373-bcfb-fd8a90c44078",
   "metadata": {},
   "outputs": [
    {
     "data": {
      "text/plain": [
       "3"
      ]
     },
     "execution_count": 53,
     "metadata": {},
     "output_type": "execute_result"
    }
   ],
   "source": [
    "len(driver.window_handles)"
   ]
  },
  {
   "cell_type": "code",
   "execution_count": 54,
   "id": "7ee8cc7f-51cc-44a0-9f0d-1714ae0a1b15",
   "metadata": {},
   "outputs": [],
   "source": [
    "# 탭 닫기\n",
    "driver.close()"
   ]
  },
  {
   "cell_type": "code",
   "execution_count": 56,
   "id": "116a8996-bf14-4e24-a3a2-91171b304473",
   "metadata": {},
   "outputs": [],
   "source": [
    "# 탭 전체 종료\n",
    "driver.quit()"
   ]
  },
  {
   "cell_type": "markdown",
   "id": "7a31edee-fae2-4c64-b21f-57320a2f339c",
   "metadata": {},
   "source": [
    "#### 2. 화면 스크롤"
   ]
  },
  {
   "cell_type": "code",
   "execution_count": 60,
   "id": "b5980a00-8481-487e-b498-03e1097f074f",
   "metadata": {},
   "outputs": [
    {
     "data": {
      "text/plain": [
       "10430"
      ]
     },
     "execution_count": 60,
     "metadata": {},
     "output_type": "execute_result"
    }
   ],
   "source": [
    "#스크롤 가능한 높이 \n",
    "#자바스크립트 코드 실행\n",
    "driver.execute_script('return document.body.scrollHeight')"
   ]
  },
  {
   "cell_type": "code",
   "execution_count": 61,
   "id": "d8ef9814-5eaa-4319-9a38-db46b3707214",
   "metadata": {},
   "outputs": [],
   "source": [
    "# 화면 스크롤 하단 이동\n",
    "driver.execute_script('window.scrollTo(0,document.body.scrollHeight);')"
   ]
  },
  {
   "cell_type": "code",
   "execution_count": 62,
   "id": "b3a129e7-b474-4cf1-8b99-d6d11eb3ce79",
   "metadata": {},
   "outputs": [
    {
     "data": {
      "text/plain": [
       "True"
      ]
     },
     "execution_count": 62,
     "metadata": {},
     "output_type": "execute_result"
    }
   ],
   "source": [
    "# 현재 보이는 화면 스크린샷 저장\n",
    "driver.save_screenshot('./last_height.png')"
   ]
  },
  {
   "cell_type": "code",
   "execution_count": 63,
   "id": "b45294e5-8b2e-4bd9-bea7-a6958fe953b2",
   "metadata": {},
   "outputs": [],
   "source": [
    "# 화면 스크롤 상단이동\n",
    "driver.execute_script('window.scrollTo(0,0);')"
   ]
  },
  {
   "cell_type": "code",
   "execution_count": 66,
   "id": "72751f27-1ad3-4486-8034-e382064f879e",
   "metadata": {},
   "outputs": [],
   "source": [
    "# 특정 태그 지점까지 스크롤 이동\n",
    "from selenium.webdriver import ActionChains\n",
    "\n",
    "some_tag=driver.find_element(By.CSS_SELECTOR, '#content > div.cover-list > div > ul > li:nth-child(1)')\n",
    "action=ActionChains(driver)\n",
    "action.move_to_element(some_tag).perform()"
   ]
  },
  {
   "cell_type": "code",
   "execution_count": 67,
   "id": "fc1c7ee5-088a-48b5-98f7-0b1f22abba35",
   "metadata": {},
   "outputs": [],
   "source": [
    "driver.quit()"
   ]
  },
  {
   "cell_type": "markdown",
   "id": "f7b2f787-6b44-4f73-a436-dab8d83d5449",
   "metadata": {},
   "source": [
    "#### 3. 검색어 입력\n",
    "- CSS_SELECTOR"
   ]
  },
  {
   "cell_type": "code",
   "execution_count": 71,
   "id": "33106a45-ba4a-4318-8c4c-fdaa949af783",
   "metadata": {},
   "outputs": [],
   "source": [
    "from selenium import webdriver\n",
    "from selenium.webdriver.common.by import By"
   ]
  },
  {
   "cell_type": "code",
   "execution_count": 74,
   "id": "e9c05bec-37fa-46c7-ad0d-ac2903304ea3",
   "metadata": {},
   "outputs": [],
   "source": [
    "driver = webdriver.Chrome()\n",
    "driver.get('https://www.naver.com')"
   ]
  },
  {
   "cell_type": "code",
   "execution_count": 80,
   "id": "7b849608-d0ac-4e75-839e-3ae3c89bd0f2",
   "metadata": {},
   "outputs": [],
   "source": [
    "keyword=driver.find_element(By.CSS_SELECTOR,'#query')\n",
    "keyword.clear()\n",
    "keyword.send_keys('파이썬')"
   ]
  },
  {
   "cell_type": "code",
   "execution_count": 81,
   "id": "8abb1980-396b-46e7-9258-ce958a8ddbc2",
   "metadata": {},
   "outputs": [],
   "source": [
    "search_btn=driver.find_element(By.CSS_SELECTOR,'#sform > fieldset > button')\n",
    "search_btn.click()"
   ]
  },
  {
   "cell_type": "markdown",
   "id": "b8c23953-c115-4dc8-be17-e73ae849d887",
   "metadata": {},
   "source": [
    "- XPATH"
   ]
  },
  {
   "cell_type": "markdown",
   "id": "922aff3f-b43a-484b-a8bd-9dd694970a83",
   "metadata": {},
   "source": [
    "```\n",
    "'//' : 최상위\n",
    "'*': 자손태그\n",
    "'/' : 자식태그\n",
    "'div[1]' : div 중에서 1번쨰 태그 \n",
    "\n",
    "```"
   ]
  },
  {
   "cell_type": "code",
   "execution_count": 82,
   "id": "78e07cd9-cd69-4207-adce-3ec1bb517399",
   "metadata": {},
   "outputs": [],
   "source": [
    "driver.find_element(By.XPATH,'//*[@id=\"query\"]').send_keys('xpath')"
   ]
  },
  {
   "cell_type": "code",
   "execution_count": 84,
   "id": "a3e4079d-07ed-4516-8d96-a19006fd1c9a",
   "metadata": {},
   "outputs": [],
   "source": [
    "driver.find_element(By.XPATH,'//*[@id=\"sform\"]/fieldset/button').click()"
   ]
  },
  {
   "cell_type": "code",
   "execution_count": 85,
   "id": "12c74899-8780-4a8a-9620-7bb6907f65a0",
   "metadata": {},
   "outputs": [],
   "source": [
    "driver.quit()"
   ]
  },
  {
   "cell_type": "code",
   "execution_count": 87,
   "id": "281706b3-edf5-40b6-8dfd-4d5038ebfa3d",
   "metadata": {},
   "outputs": [],
   "source": [
    "from selenium import webdriver\n",
    "from selenium.webdriver.common.by import By"
   ]
  },
  {
   "cell_type": "code",
   "execution_count": 88,
   "id": "dc1fc54b-cefb-41b9-b581-fa33278aedce",
   "metadata": {},
   "outputs": [],
   "source": [
    "driver = webdriver.Chrome()\n",
    "driver.get('https://pinkwink.kr')"
   ]
  },
  {
   "cell_type": "code",
   "execution_count": 100,
   "id": "db001493-f231-4bd8-be59-94b2b2411f97",
   "metadata": {},
   "outputs": [],
   "source": [
    "# 1. 돋보기 버튼을 선택\n",
    "from selenium.webdriver import ActionChains\n",
    "\n",
    "search_tag = driver.find_element(By.CSS_SELECTOR,'.search')\n",
    "action = ActionChains(driver)\n",
    "action.click(search_tag).perform()"
   ]
  },
  {
   "cell_type": "code",
   "execution_count": 101,
   "id": "8842b514-c21f-45b1-99fa-4223f5a8318e",
   "metadata": {},
   "outputs": [],
   "source": [
    "# 2. 검색어를 입력\n",
    "driver.find_element(By.XPATH,'//*[@id=\"header\"]/div[2]/input').send_keys('딥러닝')"
   ]
  },
  {
   "cell_type": "code",
   "execution_count": 102,
   "id": "265f7c5a-3d68-47b9-8572-ad2ec96dec7b",
   "metadata": {},
   "outputs": [],
   "source": [
    "# 3. 검색 버튼 클릭\n",
    "driver.find_element(By.XPATH,'//*[@id=\"header\"]/div[2]/button').click()"
   ]
  },
  {
   "cell_type": "markdown",
   "id": "c9c1253d-0511-4ca4-a268-b36dcb3053d2",
   "metadata": {},
   "source": [
    "## 4. selenium + Beautifulsoup "
   ]
  },
  {
   "cell_type": "code",
   "execution_count": 2,
   "id": "c81702e3-cee3-4bf5-b225-34f871acb659",
   "metadata": {},
   "outputs": [],
   "source": [
    "from selenium import webdriver\n",
    "\n",
    "driver= webdriver.Chrome()\n",
    "driver.get('https://pinkwink.kr')"
   ]
  },
  {
   "cell_type": "code",
   "execution_count": 4,
   "id": "dcb61c10-7d5e-45d0-9aed-5cf93bf13674",
   "metadata": {},
   "outputs": [
    {
     "data": {
      "text/plain": [
       "'<html lang=\"ko\"><head><script src=\"https://pagead2.googlesyndication.com/pagead/managed/js/adsense/m202405010101/reactive_library_fy2021.js?bust=31083323\"></script><script src=\"https://pagead2.googlesyndication.com/pagead/managed/js/adsense/m202405010101/show_ads_impl_fy2021.js?bust=31083323\"></script>\\n                <script type=\"text/javascript\">if (!window.T) { window.T = {} }\\nwindow.T.config = {\"TOP_SSL_URL\":\"https://www.tistory.com\",\"PREVIEW\":false,\"ROLE\":\"guest\",\"PREV_PAGE\":\"\",\"NEXT_PAGE\":\"\",\"BLOG\":{\"id\":371175,\"name\":\"pinkwink\",\"title\":\"PinkWink\",\"isDormancy\":false,\"nickName\":\"PinkWink\",\"status\":\"open\",\"profileStatus\":\"normal\"},\"NEED_COMMENT_LOGIN\":false,\"COMMENT_LOGIN_CONFIRM_MESSAGE\":\"\",\"LOGIN_URL\":\"https://www.tistory.com/auth/login/?redirectUrl=https://pinkwink.kr/\",\"DEFAULT_URL\":\"https://pinkwink.kr\",\"USER\":{\"name\":null,\"homepage\":null,\"id\":0,\"profileImage\":null},\"SUBSCRIPTION\":{\"status\":\"none\",\"isConnected\":false,\"isPending\":false,\"isWait\":false,\"isProcessing\":false,\"isNone\":true},\"IS_LOGIN\":false,\"HAS_BLOG\":false,\"IS_SUPPORT\":false,\"TOP_URL\":\"http://www.tistory.com\",\"JOIN_URL\":\"https://www.tistory.com/member/join\",\"ROLE_GROUP\":\"visitor\"};\\nwindow.T.entryInfo = null;\\nwindow.appInfo = {\"domain\":\"tistory.com\",\"topUrl\":\"https://www.tistory.com\",\"loginUrl\":\"https://www.tistory.com/auth/login\",\"logoutUrl\":\"https://www.tistory.com/auth/logout\"};\\nwindow.initData = {};\\n\\nwindow.TistoryBlog = {\\n    basePath: \"\",\\n    url: \"https://pinkwink.kr\",\\n    tistoryUrl: \"https://pinkwink.tistory.com\",\\n    manageUrl: \"https://pinkwink.tistory.com/manage\",\\n    token: \"5C+ROwPtsq86KM/ipTRJA1q4wRJjareMudtU8EmELuShg9AvmxcEYpnJTadBtGX+\"\\n};\\nvar servicePath = \"\";\\nvar blogURL = \"\";</script>\\n\\n                \\n                \\n                \\n                        <!-- BusinessLicenseInfo - START -->\\n        \\n            <link href=\"https://tistory1.daumcdn.net/tistory_admin/userblog/tistory-fda325030f650f8bb6efdfbc900c54d5af6cf662/static/plugin/BusinessLicenseInfo/style.css\" rel=\"stylesheet\" type=\"text/css\">\\n\\n            <script>function switchFold(entryId) {\\n    var businessLayer = document.getElementById(\"businessInfoLayer_\" + entryId);\\n\\n    if (businessLayer) {\\n        if (businessLayer.className.indexOf(\"unfold_license\") > 0) {\\n            businessLayer.className = \"business_license_layer\";\\n        } else {\\n            businessLayer.className = \"business_license_layer unfold_license\";\\n        }\\n    }\\n}\\n</script>\\n\\n        \\n        <!-- BusinessLicenseInfo - END -->\\n<!-- System - START -->\\n\\n<!-- System - END -->\\n\\n        <!-- GoogleSearchConsole - START -->\\n        \\n<!-- BEGIN GOOGLE_SITE_VERIFICATION -->\\n<meta name=\"google-site-verification\" content=\"k3AvKvWkwX7aD3-ykT5zNH4ba1F3MJShutQ5laJ8S78\">\\n<!-- END GOOGLE_SITE_VERIFICATION -->\\n\\n        <!-- GoogleSearchConsole - END -->\\n\\n        <!-- TistoryProfileLayer - START -->\\n        <link href=\"https://tistory1.daumcdn.net/tistory_admin/userblog/tistory-fda325030f650f8bb6efdfbc900c54d5af6cf662/static/plugin/TistoryProfileLayer/style.css\" rel=\"stylesheet\" type=\"text/css\">\\n<script type=\"text/javascript\" src=\"https://tistory1.daumcdn.net/tistory_admin/userblog/tistory-fda325030f650f8bb6efdfbc900c54d5af6cf662/static/plugin/TistoryProfileLayer/script.js\"></script>\\n\\n        <!-- TistoryProfileLayer - END -->\\n\\n                \\n                <meta http-equiv=\"X-UA-Compatible\" content=\"IE=Edge\">\\n<meta name=\"format-detection\" content=\"telephone=no\">\\n<script src=\"//t1.daumcdn.net/tistory_admin/lib/jquery/jquery-3.5.1.min.js\" integrity=\"sha256-9/aliU8dGd2tb6OSsuzixeV4y/faTqgFtohetphbbj0=\" crossorigin=\"anonymous\"></script>\\n<script src=\"//t1.daumcdn.net/tistory_admin/lib/lightbox/js/lightbox-v2.10.0.min.js\" defer=\"\"></script>\\n<script type=\"text/javascript\" src=\"//t1.daumcdn.net/tiara/js/v1/tiara.min.js\"></script><meta name=\"referrer\" content=\"always\">\\n<meta name=\"google-adsense-platform-account\" content=\"ca-host-pub-9691043933427338\">\\n<meta name=\"google-adsense-platform-domain\" content=\"tistory.com\">\\n<meta name=\"google-adsense-account\" content=\"ca-pub-2982459700139266\">\\n<meta name=\"description\" content=\"한 변두리 공학도의 블로그입니다. 재미있어 보이는 것들을 모두 기초스럽게 접근하는 블로그이며... 그보다 더욱 소중한 우리 아가 미바뤼의 발자취를 남겨두는 블로그이기도 합니다.\">\\n\\n    <!-- BEGIN OPENGRAPH -->\\n    <meta property=\"og:type\" content=\"website\">\\n<meta property=\"og:url\" content=\"https://pinkwink.kr\">\\n<meta property=\"og:site_name\" content=\"PinkWink\">\\n<meta property=\"og:title\" content=\"PinkWink\">\\n<meta property=\"og:description\" content=\"한 변두리 공학도의 블로그입니다. 재미있어 보이는 것들을 모두 기초스럽게 접근하는 블로그이며... 그보다 더욱 소중한 우리 아가 미바뤼의 발자취를 남겨두는 블로그이기도 합니다.\">\\n<meta property=\"og:image\" content=\"https://img1.daumcdn.net/thumb/R800x0/?scode=mtistory2&amp;fname=https%3A%2F%2Ft1.daumcdn.net%2Fcfile%2Ftistory%2F207EB9594D92CCFF05\">\\n<meta property=\"og:article:author\" content=\"\\'PinkWink\\'\">\\n    <!-- END OPENGRAPH -->\\n\\n    <!-- BEGIN TWITTERCARD -->\\n    <meta name=\"twitter:card\" content=\"summary_large_image\">\\n<meta name=\"twitter:site\" content=\"@TISTORY\">\\n<meta name=\"twitter:title\" content=\"PinkWink\">\\n<meta name=\"twitter:description\" content=\"한 변두리 공학도의 블로그입니다. 재미있어 보이는 것들을 모두 기초스럽게 접근하는 블로그이며... 그보다 더욱 소중한 우리 아가 미바뤼의 발자취를 남겨두는 블로그이기도 합니다.\">\\n<meta property=\"twitter:image\" content=\"https://img1.daumcdn.net/thumb/R800x0/?scode=mtistory2&amp;fname=https%3A%2F%2Ft1.daumcdn.net%2Fcfile%2Ftistory%2F207EB9594D92CCFF05\">\\n    <!-- END TWITTERCARD -->\\n<link rel=\"stylesheet\" type=\"text/css\" href=\"https://t1.daumcdn.net/tistory_admin/lib/lightbox/css/lightbox.min.css\">\\n<link rel=\"stylesheet\" type=\"text/css\" href=\"https://tistory1.daumcdn.net/tistory_admin/userblog/tistory-fda325030f650f8bb6efdfbc900c54d5af6cf662/static/style/font.css\">\\n<link rel=\"stylesheet\" type=\"text/css\" href=\"https://tistory1.daumcdn.net/tistory_admin/userblog/tistory-fda325030f650f8bb6efdfbc900c54d5af6cf662/static/style/content.css\">\\n<script type=\"text/javascript\">(function() {\\n    var tjQuery = jQuery.noConflict(true);\\n    window.tjQuery = tjQuery;\\n    window.orgjQuery = window.jQuery; window.jQuery = tjQuery;\\n    window.jQuery = window.orgjQuery; delete window.orgjQuery;\\n})()</script>\\n<script type=\"text/javascript\" src=\"https://tistory1.daumcdn.net/tistory_admin/userblog/tistory-fda325030f650f8bb6efdfbc900c54d5af6cf662/static/script/base.js\"></script>\\n<script type=\"text/javascript\" src=\"//developers.kakao.com/sdk/js/kakao.min.js\"></script>\\n\\n                \\n<meta charset=\"UTF-8\">\\n<meta name=\"google-site-verification\" content=\"k3AvKvWkwX7aD3-ykT5zNH4ba1F3MJShutQ5laJ8S78\">\\n<meta name=\"viewport\" content=\"user-scalable=no, initial-scale=1.0, maximum-scale=1.0, minimum-scale=1.0, width=device-width\">\\n<title>PinkWink</title>\\n<link rel=\"stylesheet\" href=\"https://tistory1.daumcdn.net/tistory/371175/skin/style.css?_version_=1687613150\">\\n<script src=\"//t1.daumcdn.net/tistory_admin/lib/jquery/jquery-1.12.4.min.js\"></script>\\n  \\n  <script async=\"\" src=\"https://pagead2.googlesyndication.com/pagead/js/adsbygoogle.js?client=ca-pub-2982459700139266\" crossorigin=\"anonymous\" data-checked-head=\"true\"></script>\\n  \\n<!-- Google tag (gtag.js) -->\\n<script async=\"\" src=\"https://www.googletagmanager.com/gtag/js?id=G-HCXDDK2V0E\"></script>\\n<script>\\n  window.dataLayer = window.dataLayer || [];\\n  function gtag(){dataLayer.push(arguments);}\\n  gtag(\\'js\\', new Date());\\n\\n  gtag(\\'config\\', \\'G-HCXDDK2V0E\\');\\n</script>\\n\\n\\n                \\n                \\n                <style type=\"text/css\">.another_category {\\n    border: 1px solid #E5E5E5;\\n    padding: 10px 10px 5px;\\n    margin: 10px 0;\\n    clear: both;\\n}\\n\\n.another_category h4 {\\n    font-size: 12px !important;\\n    margin: 0 !important;\\n    border-bottom: 1px solid #E5E5E5 !important;\\n    padding: 2px 0 6px !important;\\n}\\n\\n.another_category h4 a {\\n    font-weight: bold !important;\\n}\\n\\n.another_category table {\\n    table-layout: fixed;\\n    border-collapse: collapse;\\n    width: 100% !important;\\n    margin-top: 10px !important;\\n}\\n\\n* html .another_category table {\\n    width: auto !important;\\n}\\n\\n*:first-child + html .another_category table {\\n    width: auto !important;\\n}\\n\\n.another_category th, .another_category td {\\n    padding: 0 0 4px !important;\\n}\\n\\n.another_category th {\\n    text-align: left;\\n    font-size: 12px !important;\\n    font-weight: normal;\\n    word-break: break-all;\\n    overflow: hidden;\\n    line-height: 1.5;\\n}\\n\\n.another_category td {\\n    text-align: right;\\n    width: 80px;\\n    font-size: 11px;\\n}\\n\\n.another_category th a {\\n    font-weight: normal;\\n    text-decoration: none;\\n    border: none !important;\\n}\\n\\n.another_category th a.current {\\n    font-weight: bold;\\n    text-decoration: none !important;\\n    border-bottom: 1px solid !important;\\n}\\n\\n.another_category th span {\\n    font-weight: normal;\\n    text-decoration: none;\\n    font: 10px Tahoma, Sans-serif;\\n    border: none !important;\\n}\\n\\n.another_category_color_gray, .another_category_color_gray h4 {\\n    border-color: #E5E5E5 !important;\\n}\\n\\n.another_category_color_gray * {\\n    color: #909090 !important;\\n}\\n\\n.another_category_color_gray th a.current {\\n    border-color: #909090 !important;\\n}\\n\\n.another_category_color_gray h4, .another_category_color_gray h4 a {\\n    color: #737373 !important;\\n}\\n\\n.another_category_color_red, .another_category_color_red h4 {\\n    border-color: #F6D4D3 !important;\\n}\\n\\n.another_category_color_red * {\\n    color: #E86869 !important;\\n}\\n\\n.another_category_color_red th a.current {\\n    border-color: #E86869 !important;\\n}\\n\\n.another_category_color_red h4, .another_category_color_red h4 a {\\n    color: #ED0908 !important;\\n}\\n\\n.another_category_color_green, .another_category_color_green h4 {\\n    border-color: #CCE7C8 !important;\\n}\\n\\n.another_category_color_green * {\\n    color: #64C05B !important;\\n}\\n\\n.another_category_color_green th a.current {\\n    border-color: #64C05B !important;\\n}\\n\\n.another_category_color_green h4, .another_category_color_green h4 a {\\n    color: #3EA731 !important;\\n}\\n\\n.another_category_color_blue, .another_category_color_blue h4 {\\n    border-color: #C8DAF2 !important;\\n}\\n\\n.another_category_color_blue * {\\n    color: #477FD6 !important;\\n}\\n\\n.another_category_color_blue th a.current {\\n    border-color: #477FD6 !important;\\n}\\n\\n.another_category_color_blue h4, .another_category_color_blue h4 a {\\n    color: #1960CA !important;\\n}\\n\\n.another_category_color_violet, .another_category_color_violet h4 {\\n    border-color: #E1CEEC !important;\\n}\\n\\n.another_category_color_violet * {\\n    color: #9D64C5 !important;\\n}\\n\\n.another_category_color_violet th a.current {\\n    border-color: #9D64C5 !important;\\n}\\n\\n.another_category_color_violet h4, .another_category_color_violet h4 a {\\n    color: #7E2CB5 !important;\\n}\\n</style>\\n\\n                \\n                <link rel=\"stylesheet\" type=\"text/css\" href=\"https://tistory1.daumcdn.net/tistory_admin/userblog/tistory-fda325030f650f8bb6efdfbc900c54d5af6cf662/static/style/revenue.css\">\\n<link rel=\"canonical\" href=\"https://pinkwink.kr\">\\n\\n<!-- BEGIN STRUCTURED_DATA -->\\n<script type=\"application/ld+json\">\\n    {\"@context\":\"http://schema.org\",\"@type\":\"WebSite\",\"url\":\"/\",\"potentialAction\":{\"@type\":\"SearchAction\",\"target\":\"/search/{search_term_string}\",\"query\":\"required name=search_term_string\"}}\\n</script>\\n<!-- END STRUCTURED_DATA -->\\n<link rel=\"stylesheet\" type=\"text/css\" href=\"https://tistory1.daumcdn.net/tistory_admin/userblog/tistory-fda325030f650f8bb6efdfbc900c54d5af6cf662/static/style/dialog.css\">\\n<link rel=\"stylesheet\" type=\"text/css\" href=\"//t1.daumcdn.net/tistory_admin/www/style/top/font.css\">\\n<link rel=\"stylesheet\" type=\"text/css\" href=\"https://tistory1.daumcdn.net/tistory_admin/userblog/tistory-fda325030f650f8bb6efdfbc900c54d5af6cf662/static/style/postBtn.css\">\\n<link rel=\"stylesheet\" type=\"text/css\" href=\"https://tistory1.daumcdn.net/tistory_admin/userblog/tistory-fda325030f650f8bb6efdfbc900c54d5af6cf662/static/style/comment.css\">\\n<link rel=\"stylesheet\" type=\"text/css\" href=\"https://tistory1.daumcdn.net/tistory_admin/userblog/tistory-fda325030f650f8bb6efdfbc900c54d5af6cf662/static/style/tistory.css\">\\n<script type=\"text/javascript\" src=\"https://tistory1.daumcdn.net/tistory_admin/userblog/tistory-fda325030f650f8bb6efdfbc900c54d5af6cf662/static/script/common.js\"></script>\\n<script type=\"text/javascript\" src=\"https://tistory1.daumcdn.net/tistory_admin/userblog/tistory-fda325030f650f8bb6efdfbc900c54d5af6cf662/static/script/comment.js\" defer=\"\"></script>\\n\\n                \\n                <style>@font-face{font-family:swiper-icons;src:url(\"data:application/font-woff;charset=utf-8;base64, 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\");font-weight:400;font-style:normal}:root{--swiper-theme-color:#007aff}.swiper{margin-left:auto;margin-right:auto;position:relative;overflow:hidden;list-style:none;padding:0;z-index:1}.swiper-vertical>.swiper-wrapper{flex-direction:column}.swiper-wrapper{position:relative;width:100%;height:100%;z-index:1;display:flex;transition-property:transform;box-sizing:content-box}.swiper-android .swiper-slide,.swiper-wrapper{transform:translate3d(0px, 0, 0)}.swiper-pointer-events{touch-action:pan-y}.swiper-pointer-events.swiper-vertical{touch-action:pan-x}.swiper-slide{flex-shrink:0;width:100%;height:100%;position:relative;transition-property:transform}.swiper-slide-invisible-blank{visibility:hidden}.swiper-autoheight,.swiper-autoheight .swiper-slide{height:auto}.swiper-autoheight .swiper-wrapper{align-items:flex-start;transition-property:transform,height}.swiper-backface-hidden .swiper-slide{transform:translateZ(0);-webkit-backface-visibility:hidden;backface-visibility:hidden}.swiper-3d,.swiper-3d.swiper-css-mode .swiper-wrapper{perspective:1200px}.swiper-3d .swiper-cube-shadow,.swiper-3d .swiper-slide,.swiper-3d .swiper-slide-shadow,.swiper-3d .swiper-slide-shadow-bottom,.swiper-3d .swiper-slide-shadow-left,.swiper-3d .swiper-slide-shadow-right,.swiper-3d .swiper-slide-shadow-top,.swiper-3d .swiper-wrapper{transform-style:preserve-3d}.swiper-3d .swiper-slide-shadow,.swiper-3d .swiper-slide-shadow-bottom,.swiper-3d .swiper-slide-shadow-left,.swiper-3d .swiper-slide-shadow-right,.swiper-3d .swiper-slide-shadow-top{position:absolute;left:0;top:0;width:100%;height:100%;pointer-events:none;z-index:10}.swiper-3d .swiper-slide-shadow{background:rgba(0,0,0,.15)}.swiper-3d .swiper-slide-shadow-left{background-image:linear-gradient(to left, rgba(0, 0, 0, 0.5), rgba(0, 0, 0, 0))}.swiper-3d .swiper-slide-shadow-right{background-image:linear-gradient(to right, rgba(0, 0, 0, 0.5), rgba(0, 0, 0, 0))}.swiper-3d .swiper-slide-shadow-top{background-image:linear-gradient(to top, rgba(0, 0, 0, 0.5), rgba(0, 0, 0, 0))}.swiper-3d .swiper-slide-shadow-bottom{background-image:linear-gradient(to bottom, rgba(0, 0, 0, 0.5), rgba(0, 0, 0, 0))}.swiper-css-mode>.swiper-wrapper{overflow:auto;scrollbar-width:none;-ms-overflow-style:none}.swiper-css-mode>.swiper-wrapper::-webkit-scrollbar{display:none}.swiper-css-mode>.swiper-wrapper>.swiper-slide{scroll-snap-align:start start}.swiper-horizontal.swiper-css-mode>.swiper-wrapper{scroll-snap-type:x mandatory}.swiper-vertical.swiper-css-mode>.swiper-wrapper{scroll-snap-type:y mandatory}.swiper-centered>.swiper-wrapper::before{content:\"\";flex-shrink:0;order:9999}.swiper-centered.swiper-horizontal>.swiper-wrapper>.swiper-slide:first-child{margin-inline-start:var(--swiper-centered-offset-before)}.swiper-centered.swiper-horizontal>.swiper-wrapper::before{height:100%;min-height:1px;width:var(--swiper-centered-offset-after)}.swiper-centered.swiper-vertical>.swiper-wrapper>.swiper-slide:first-child{margin-block-start:var(--swiper-centered-offset-before)}.swiper-centered.swiper-vertical>.swiper-wrapper::before{width:100%;min-width:1px;height:var(--swiper-centered-offset-after)}.swiper-centered>.swiper-wrapper>.swiper-slide{scroll-snap-align:center center;scroll-snap-stop:always}</style><meta http-equiv=\"origin-trial\" content=\"AlK2UR5SkAlj8jjdEc9p3F3xuFYlF6LYjAML3EOqw1g26eCwWPjdmecULvBH5MVPoqKYrOfPhYVL71xAXI1IBQoAAAB8eyJvcmlnaW4iOiJodHRwczovL2RvdWJsZWNsaWNrLm5ldDo0NDMiLCJmZWF0dXJlIjoiV2ViVmlld1hSZXF1ZXN0ZWRXaXRoRGVwcmVjYXRpb24iLCJleHBpcnkiOjE3NTgwNjcxOTksImlzU3ViZG9tYWluIjp0cnVlfQ==\"><meta http-equiv=\"origin-trial\" content=\"Amm8/NmvvQfhwCib6I7ZsmUxiSCfOxWxHayJwyU1r3gRIItzr7bNQid6O8ZYaE1GSQTa69WwhPC9flq/oYkRBwsAAACCeyJvcmlnaW4iOiJodHRwczovL2dvb2dsZXN5bmRpY2F0aW9uLmNvbTo0NDMiLCJmZWF0dXJlIjoiV2ViVmlld1hSZXF1ZXN0ZWRXaXRoRGVwcmVjYXRpb24iLCJleHBpcnkiOjE3NTgwNjcxOTksImlzU3ViZG9tYWluIjp0cnVlfQ==\"><meta http-equiv=\"origin-trial\" content=\"A/ERL66fN363FkXxgDc6F1+ucRUkAhjEca9W3la6xaLnD2Y1lABsqmdaJmPNaUKPKVBRpyMKEhXYl7rSvrQw+AkAAACNeyJvcmlnaW4iOiJodHRwczovL2RvdWJsZWNsaWNrLm5ldDo0NDMiLCJmZWF0dXJlIjoiRmxlZGdlQmlkZGluZ0FuZEF1Y3Rpb25TZXJ2ZXIiLCJleHBpcnkiOjE3MTkzNTk5OTksImlzU3ViZG9tYWluIjp0cnVlLCJpc1RoaXJkUGFydHkiOnRydWV9\"><meta http-equiv=\"origin-trial\" content=\"A6OdGH3fVf4eKRDbXb4thXA4InNqDJDRhZ8U533U/roYjp4Yau0T3YSuc63vmAs/8ga1cD0E3A7LEq6AXk1uXgsAAACTeyJvcmlnaW4iOiJodHRwczovL2dvb2dsZXN5bmRpY2F0aW9uLmNvbTo0NDMiLCJmZWF0dXJlIjoiRmxlZGdlQmlkZGluZ0FuZEF1Y3Rpb25TZXJ2ZXIiLCJleHBpcnkiOjE3MTkzNTk5OTksImlzU3ViZG9tYWluIjp0cnVlLCJpc1RoaXJkUGFydHkiOnRydWV9\"><meta http-equiv=\"origin-trial\" content=\"AlK2UR5SkAlj8jjdEc9p3F3xuFYlF6LYjAML3EOqw1g26eCwWPjdmecULvBH5MVPoqKYrOfPhYVL71xAXI1IBQoAAAB8eyJvcmlnaW4iOiJodHRwczovL2RvdWJsZWNsaWNrLm5ldDo0NDMiLCJmZWF0dXJlIjoiV2ViVmlld1hSZXF1ZXN0ZWRXaXRoRGVwcmVjYXRpb24iLCJleHBpcnkiOjE3NTgwNjcxOTksImlzU3ViZG9tYWluIjp0cnVlfQ==\"><meta http-equiv=\"origin-trial\" content=\"Amm8/NmvvQfhwCib6I7ZsmUxiSCfOxWxHayJwyU1r3gRIItzr7bNQid6O8ZYaE1GSQTa69WwhPC9flq/oYkRBwsAAACCeyJvcmlnaW4iOiJodHRwczovL2dvb2dsZXN5bmRpY2F0aW9uLmNvbTo0NDMiLCJmZWF0dXJlIjoiV2ViVmlld1hSZXF1ZXN0ZWRXaXRoRGVwcmVjYXRpb24iLCJleHBpcnkiOjE3NTgwNjcxOTksImlzU3ViZG9tYWluIjp0cnVlfQ==\"><meta http-equiv=\"origin-trial\" content=\"A/ERL66fN363FkXxgDc6F1+ucRUkAhjEca9W3la6xaLnD2Y1lABsqmdaJmPNaUKPKVBRpyMKEhXYl7rSvrQw+AkAAACNeyJvcmlnaW4iOiJodHRwczovL2RvdWJsZWNsaWNrLm5ldDo0NDMiLCJmZWF0dXJlIjoiRmxlZGdlQmlkZGluZ0FuZEF1Y3Rpb25TZXJ2ZXIiLCJleHBpcnkiOjE3MTkzNTk5OTksImlzU3ViZG9tYWluIjp0cnVlLCJpc1RoaXJkUGFydHkiOnRydWV9\"><meta http-equiv=\"origin-trial\" content=\"A6OdGH3fVf4eKRDbXb4thXA4InNqDJDRhZ8U533U/roYjp4Yau0T3YSuc63vmAs/8ga1cD0E3A7LEq6AXk1uXgsAAACTeyJvcmlnaW4iOiJodHRwczovL2dvb2dsZXN5bmRpY2F0aW9uLmNvbTo0NDMiLCJmZWF0dXJlIjoiRmxlZGdlQmlkZGluZ0FuZEF1Y3Rpb25TZXJ2ZXIiLCJleHBpcnkiOjE3MTkzNTk5OTksImlzU3ViZG9tYWluIjp0cnVlLCJpc1RoaXJkUGFydHkiOnRydWV9\"><meta http-equiv=\"origin-trial\" content=\"AlK2UR5SkAlj8jjdEc9p3F3xuFYlF6LYjAML3EOqw1g26eCwWPjdmecULvBH5MVPoqKYrOfPhYVL71xAXI1IBQoAAAB8eyJvcmlnaW4iOiJodHRwczovL2RvdWJsZWNsaWNrLm5ldDo0NDMiLCJmZWF0dXJlIjoiV2ViVmlld1hSZXF1ZXN0ZWRXaXRoRGVwcmVjYXRpb24iLCJleHBpcnkiOjE3NTgwNjcxOTksImlzU3ViZG9tYWluIjp0cnVlfQ==\"><meta http-equiv=\"origin-trial\" content=\"Amm8/NmvvQfhwCib6I7ZsmUxiSCfOxWxHayJwyU1r3gRIItzr7bNQid6O8ZYaE1GSQTa69WwhPC9flq/oYkRBwsAAACCeyJvcmlnaW4iOiJodHRwczovL2dvb2dsZXN5bmRpY2F0aW9uLmNvbTo0NDMiLCJmZWF0dXJlIjoiV2ViVmlld1hSZXF1ZXN0ZWRXaXRoRGVwcmVjYXRpb24iLCJleHBpcnkiOjE3NTgwNjcxOTksImlzU3ViZG9tYWluIjp0cnVlfQ==\"><meta http-equiv=\"origin-trial\" content=\"A/ERL66fN363FkXxgDc6F1+ucRUkAhjEca9W3la6xaLnD2Y1lABsqmdaJmPNaUKPKVBRpyMKEhXYl7rSvrQw+AkAAACNeyJvcmlnaW4iOiJodHRwczovL2RvdWJsZWNsaWNrLm5ldDo0NDMiLCJmZWF0dXJlIjoiRmxlZGdlQmlkZGluZ0FuZEF1Y3Rpb25TZXJ2ZXIiLCJleHBpcnkiOjE3MTkzNTk5OTksImlzU3ViZG9tYWluIjp0cnVlLCJpc1RoaXJkUGFydHkiOnRydWV9\"><meta http-equiv=\"origin-trial\" content=\"A6OdGH3fVf4eKRDbXb4thXA4InNqDJDRhZ8U533U/roYjp4Yau0T3YSuc63vmAs/8ga1cD0E3A7LEq6AXk1uXgsAAACTeyJvcmlnaW4iOiJodHRwczovL2dvb2dsZXN5bmRpY2F0aW9uLmNvbTo0NDMiLCJmZWF0dXJlIjoiRmxlZGdlQmlkZGluZ0FuZEF1Y3Rpb25TZXJ2ZXIiLCJleHBpcnkiOjE3MTkzNTk5OTksImlzU3ViZG9tYWluIjp0cnVlLCJpc1RoaXJkUGFydHkiOnRydWV9\"><meta http-equiv=\"origin-trial\" content=\"AlK2UR5SkAlj8jjdEc9p3F3xuFYlF6LYjAML3EOqw1g26eCwWPjdmecULvBH5MVPoqKYrOfPhYVL71xAXI1IBQoAAAB8eyJvcmlnaW4iOiJodHRwczovL2RvdWJsZWNsaWNrLm5ldDo0NDMiLCJmZWF0dXJlIjoiV2ViVmlld1hSZXF1ZXN0ZWRXaXRoRGVwcmVjYXRpb24iLCJleHBpcnkiOjE3NTgwNjcxOTksImlzU3ViZG9tYWluIjp0cnVlfQ==\"><meta http-equiv=\"origin-trial\" content=\"Amm8/NmvvQfhwCib6I7ZsmUxiSCfOxWxHayJwyU1r3gRIItzr7bNQid6O8ZYaE1GSQTa69WwhPC9flq/oYkRBwsAAACCeyJvcmlnaW4iOiJodHRwczovL2dvb2dsZXN5bmRpY2F0aW9uLmNvbTo0NDMiLCJmZWF0dXJlIjoiV2ViVmlld1hSZXF1ZXN0ZWRXaXRoRGVwcmVjYXRpb24iLCJleHBpcnkiOjE3NTgwNjcxOTksImlzU3ViZG9tYWluIjp0cnVlfQ==\"><meta http-equiv=\"origin-trial\" content=\"A/ERL66fN363FkXxgDc6F1+ucRUkAhjEca9W3la6xaLnD2Y1lABsqmdaJmPNaUKPKVBRpyMKEhXYl7rSvrQw+AkAAACNeyJvcmlnaW4iOiJodHRwczovL2RvdWJsZWNsaWNrLm5ldDo0NDMiLCJmZWF0dXJlIjoiRmxlZGdlQmlkZGluZ0FuZEF1Y3Rpb25TZXJ2ZXIiLCJleHBpcnkiOjE3MTkzNTk5OTksImlzU3ViZG9tYWluIjp0cnVlLCJpc1RoaXJkUGFydHkiOnRydWV9\"><meta http-equiv=\"origin-trial\" content=\"A6OdGH3fVf4eKRDbXb4thXA4InNqDJDRhZ8U533U/roYjp4Yau0T3YSuc63vmAs/8ga1cD0E3A7LEq6AXk1uXgsAAACTeyJvcmlnaW4iOiJodHRwczovL2dvb2dsZXN5bmRpY2F0aW9uLmNvbTo0NDMiLCJmZWF0dXJlIjoiRmxlZGdlQmlkZGluZ0FuZEF1Y3Rpb25TZXJ2ZXIiLCJleHBpcnkiOjE3MTkzNTk5OTksImlzU3ViZG9tYWluIjp0cnVlLCJpc1RoaXJkUGFydHkiOnRydWV9\"><script async=\"\" src=\"https://fundingchoicesmessages.google.com/i/ca-pub-2982459700139266?ers=2\"></script><script async=\"\" src=\"https://fundingchoicesmessages.google.com/f/AGSKWxUS5pOxKNeogW1R--AAAQYMVEgAeayYHI1WmDa6sF8L72wO8U0y8WB4uhXCVbCOYCTLU3FqilNsrOrxUaq9j016V92QRbdSJhcTZSP3E4YosXVsWOo3XoOgjl-ylGbsqyKrazVqxQ==?fccs=W251bGwsbnVsbCxudWxsLG51bGwsbnVsbCxudWxsLFsxNzE0ODcwNTcwLDIyODAwMDAwMF0sbnVsbCxudWxsLG51bGwsW251bGwsWzddXSwiaHR0cHM6Ly9waW5rd2luay5rci8iLG51bGwsW1s4LCJGaUpsM0V0cU54TSJdLFs5LCJrbyJdLFsxOCwiW1tbMF1dXSJdLFsxOSwiMiJdLFsxNywiWzBdIl1dXQ\"></script><script async=\"\" src=\"https://fundingchoicesmessages.google.com/f/AGSKWxWGlUft1jpqsKx4IqQEc3MHT9LfUp0DfUGhZqL0KLsTLBurUDl20RNavaJCxVvWztwj_7BOmX4MVwynz5Net4GyJcBqcq7WKl6r3AYSAhEqJNi5xX9QZ3l8YXV7TivNmpLmARSG5A==?fccs=W251bGwsbnVsbCxudWxsLG51bGwsbnVsbCxudWxsLFsxNzE0ODcwNTcwLDMyNjAwMDAwMF0sbnVsbCxudWxsLG51bGwsW251bGwsWzcsOV0sbnVsbCwyLG51bGwsImVuIl0sImh0dHBzOi8vcGlua3dpbmsua3IvIixudWxsLFtbOCwiRmlKbDNFdHFOeE0iXSxbOSwia28iXSxbMTgsIltbWzBdXV0iXSxbMTksIjIiXSxbMTcsIlswXSJdXV0\"></script><script async=\"\" src=\"https://fundingchoicesmessages.google.com/f/AGSKWxXNC1NUMdCyG9Sqqx4vsFuBnumlEjsVa_kljAFSNbdCu3wlb09YP6Mhr33mOx-l0WJ3zqX6LveeEh20RWzP_FsZG9cfK4Pj_nYVXEFT91brCIH1Y1WiOWJ1Oz3XrHdrQ3IYDZ9-DA==?fccs=W251bGwsbnVsbCxudWxsLG51bGwsbnVsbCxudWxsLFsxNzE0ODcwNTc1LDc2OTAwMDAwMF0sbnVsbCxudWxsLG51bGwsW251bGwsWzcsOSw2XSxudWxsLDIsbnVsbCwiZW4iLG51bGwsbnVsbCxudWxsLG51bGwsbnVsbCwxXSwiaHR0cHM6Ly9waW5rd2luay5rci8iLG51bGwsW1s4LCJGaUpsM0V0cU54TSJdLFs5LCJrbyJdLFsxOCwiW1tbMF1dXSJdLFsxOSwiMiJdLFsxNywiWzBdIl1dXQ\"></script></head>\\n                                                <body id=\"tt-body-index\" class=\"color-gray post-type-text paging-view-more\" aria-hidden=\"false\" style=\"padding: 0px 0px 154px;\">\\n                \\n                \\n                \\n\\n<div id=\"acc-nav\">\\n  <a href=\"#content\">본문 바로가기</a>\\n</div>\\n<div id=\"wrap\">\\n  <header id=\"header\">\\n    <h1><a href=\"https://pinkwink.kr/\">PinkWink</a></h1>\\n    <button type=\"button\" class=\"mobile-menu\"><span>메뉴</span></button>\\n    <div class=\"menu\">\\n      <nav id=\"gnb\">\\n        <ul class=\"tt_category\"><li class=\"\"><a href=\"/category\" class=\"link_tit\"> Posts by PinkWink <span class=\"c_cnt\">(1340)</span> </a>\\n  <ul class=\"category_list\"><li class=\"\"><a href=\"/category/Education\" class=\"link_item\"> Education <span class=\"c_cnt\">(50)</span> </a></li>\\n<li class=\"\"><a href=\"/category/Robot\" class=\"link_item\"> Robot <span class=\"c_cnt\">(171)</span> </a>\\n  <ul class=\"sub_category_list\"><li class=\"\"><a href=\"/category/Robot/Project\" class=\"link_sub_item\"> Project <span class=\"c_cnt\">(45)</span> </a></li>\\n<li class=\"\"><a href=\"/category/Robot/Robot%20Program%20-%20ROS\" class=\"link_sub_item\"> Robot Program - ROS <span class=\"c_cnt\">(73)</span> </a></li>\\n<li class=\"\"><a href=\"/category/Robot/Robot%20Module\" class=\"link_sub_item\"> Robot Module <span class=\"c_cnt\">(17)</span> </a></li>\\n<li class=\"\"><a href=\"/category/Robot/Block%20Coding\" class=\"link_sub_item\"> Block Coding <span class=\"c_cnt\">(13)</span> </a></li>\\n<li class=\"\"><a href=\"/category/Robot/Reference\" class=\"link_sub_item\"> Reference <span class=\"c_cnt\">(23)</span> </a></li>\\n</ul>\\n</li>\\n<li class=\"\"><a href=\"/category/Theory\" class=\"link_item\"> Theory <span class=\"c_cnt\">(228)</span> </a>\\n  <ul class=\"sub_category_list\"><li class=\"\"><a href=\"/category/Theory/ControlTheory\" class=\"link_sub_item\"> ControlTheory <span class=\"c_cnt\">(53)</span> </a></li>\\n<li class=\"\"><a href=\"/category/Theory/DataScience\" class=\"link_sub_item\"> DataScience <span class=\"c_cnt\">(52)</span> </a></li>\\n<li class=\"\"><a href=\"/category/Theory/MachineLearning\" class=\"link_sub_item\"> MachineLearning <span class=\"c_cnt\">(7)</span> </a></li>\\n<li class=\"\"><a href=\"/category/Theory/DeepLearning\" class=\"link_sub_item\"> DeepLearning <span class=\"c_cnt\">(19)</span> </a></li>\\n<li class=\"\"><a href=\"/category/Theory/Project\" class=\"link_sub_item\"> Project <span class=\"c_cnt\">(5)</span> </a></li>\\n<li class=\"\"><a href=\"/category/Theory/Lecture\" class=\"link_sub_item\"> Lecture <span class=\"c_cnt\">(77)</span> </a></li>\\n<li class=\"\"><a href=\"/category/Theory/Review\" class=\"link_sub_item\"> Review <span class=\"c_cnt\">(15)</span> </a></li>\\n</ul>\\n</li>\\n<li class=\"\"><a href=\"/category/Software\" class=\"link_item\"> Software <span class=\"c_cnt\">(304)</span> </a>\\n  <ul class=\"sub_category_list\"><li class=\"\"><a href=\"/category/Software/MATLAB\" class=\"link_sub_item\"> MATLAB <span class=\"c_cnt\">(65)</span> </a></li>\\n<li class=\"\"><a href=\"/category/Software/Python\" class=\"link_sub_item\"> Python <span class=\"c_cnt\">(78)</span> </a></li>\\n<li class=\"\"><a href=\"/category/Software/Processing\" class=\"link_sub_item\"> Processing <span class=\"c_cnt\">(11)</span> </a></li>\\n<li class=\"\"><a href=\"/category/Software/Ubuntu%20and%20Mint\" class=\"link_sub_item\"> Ubuntu and Mint <span class=\"c_cnt\">(42)</span> </a></li>\\n<li class=\"\"><a href=\"/category/Software/Mac%20OS\" class=\"link_sub_item\"> Mac OS <span class=\"c_cnt\">(25)</span> </a></li>\\n<li class=\"\"><a href=\"/category/Software/Useful%20SW\" class=\"link_sub_item\"> Useful SW <span class=\"c_cnt\">(60)</span> </a></li>\\n<li class=\"\"><a href=\"/category/Software/Useful%20Site\" class=\"link_sub_item\"> Useful Site <span class=\"c_cnt\">(23)</span> </a></li>\\n</ul>\\n</li>\\n<li class=\"\"><a href=\"/category/Hardware\" class=\"link_item\"> Hardware <span class=\"c_cnt\">(101)</span> </a>\\n  <ul class=\"sub_category_list\"><li class=\"\"><a href=\"/category/Hardware/SBC%20%28rasp%2C%20jetson%2C%20latte%20panda%29\" class=\"link_sub_item\"> SBC (rasp, jetson, latte pa.. <span class=\"c_cnt\">(20)</span> </a></li>\\n<li class=\"\"><a href=\"/category/Hardware/Arduino%20and%20Friends\" class=\"link_sub_item\"> Arduino and Friends <span class=\"c_cnt\">(30)</span> </a></li>\\n<li class=\"\"><a href=\"/category/Hardware/MCU\" class=\"link_sub_item\"> MCU <span class=\"c_cnt\">(16)</span> </a></li>\\n<li class=\"\"><a href=\"/category/Hardware/Review\" class=\"link_sub_item\"> Review <span class=\"c_cnt\">(35)</span> </a></li>\\n</ul>\\n</li>\\n<li class=\"\"><a href=\"/category/%EB%AC%B8%ED%99%94%EC%83%9D%ED%99%9C\" class=\"link_item\"> 문화생활 <span class=\"c_cnt\">(140)</span> </a>\\n  <ul class=\"sub_category_list\"><li class=\"\"><a href=\"/category/%EB%AC%B8%ED%99%94%EC%83%9D%ED%99%9C/%EA%B0%90%EC%83%81%ED%95%98%EA%B8%B0\" class=\"link_sub_item\"> 감상하기 <span class=\"c_cnt\">(28)</span> </a></li>\\n<li class=\"\"><a href=\"/category/%EB%AC%B8%ED%99%94%EC%83%9D%ED%99%9C/%EA%B0%80%EB%B3%BC%EA%B1%B0%EB%A6%AC.%EC%84%B8%EA%B3%84\" class=\"link_sub_item\"> 가볼거리.세계 <span class=\"c_cnt\">(84)</span> </a></li>\\n<li class=\"\"><a href=\"/category/%EB%AC%B8%ED%99%94%EC%83%9D%ED%99%9C/%EC%97%AD%EC%82%AC%EC%9D%B4%EC%95%BC%EA%B8%B0\" class=\"link_sub_item\"> 역사이야기 <span class=\"c_cnt\">(28)</span> </a></li>\\n</ul>\\n</li>\\n<li class=\"\"><a href=\"/category/%EC%9D%BC%EC%83%81%EC%83%9D%ED%99%9C\" class=\"link_item\"> 일상생활 <span class=\"c_cnt\">(346)</span> </a>\\n  <ul class=\"sub_category_list\"><li class=\"\"><a href=\"/category/%EC%9D%BC%EC%83%81%EC%83%9D%ED%99%9C/%EC%95%84%EA%B0%80%20%EB%AF%B8%EB%B0%94%EB%A4%BC\" class=\"link_sub_item\"> 아가 미바뤼 <span class=\"c_cnt\">(66)</span> </a></li>\\n<li class=\"\"><a href=\"/category/%EC%9D%BC%EC%83%81%EC%83%9D%ED%99%9C/%EB%81%84%EC%A0%81%EA%B1%B0%EB%A6%BC\" class=\"link_sub_item\"> 끄적거림 <span class=\"c_cnt\">(125)</span> </a></li>\\n<li class=\"\"><a href=\"/category/%EC%9D%BC%EC%83%81%EC%83%9D%ED%99%9C/%EB%A8%B9%EC%9D%84%EA%B1%B0%EB%A6%AC\" class=\"link_sub_item\"> 먹을거리 <span class=\"c_cnt\">(50)</span> </a></li>\\n<li class=\"\"><a href=\"/category/%EC%9D%BC%EC%83%81%EC%83%9D%ED%99%9C/%EA%B0%80%EB%B3%BC%EA%B1%B0%EB%A6%AC.%ED%95%9C%EA%B5%AD\" class=\"link_sub_item\"> 가볼거리.한국 <span class=\"c_cnt\">(91)</span> </a></li>\\n<li class=\"\"><a href=\"/category/%EC%9D%BC%EC%83%81%EC%83%9D%ED%99%9C/%ED%88%AC%EB%8D%9C%EA%B1%B0%EB%A6%BC\" class=\"link_sub_item\"> 투덜거림 <span class=\"c_cnt\">(14)</span> </a></li>\\n</ul>\\n</li>\\n</ul>\\n</li>\\n</ul>\\n\\n      </nav>\\n      <div class=\"social-link\">\\n        \\n        \\n        \\n        \\n      </div>\\n      <p>POWERED BY TISTORY</p>\\n    </div>\\n    <div class=\"search\">\\n      \\n          <input type=\"text\" name=\"search\" value=\"\" placeholder=\"검색내용을 입력하세요.\" onkeypress=\"if (event.keyCode == 13) { try {\\n    window.location.href = \\'/search\\' + \\'/\\' + looseURIEncode(document.getElementsByName(\\'search\\')[0].value);\\n    document.getElementsByName(\\'search\\')[0].value = \\'\\';\\n    return false;\\n} catch (e) {} }\">\\n          <button type=\"submit\" onclick=\"try {\\n    window.location.href = \\'/search\\' + \\'/\\' + looseURIEncode(document.getElementsByName(\\'search\\')[0].value);\\n    document.getElementsByName(\\'search\\')[0].value = \\'\\';\\n    return false;\\n} catch (e) {}\">검색</button>\\n        \\n    </div>\\n  </header>\\n  <hr>\\n  <section class=\"container\">\\n    \\n    <article id=\"content\">\\n      \\n          \\n            \\n\\n            \\n\\n            \\n              <div class=\"cover-masonry\">\\n                <div class=\"inner\">\\n                  <h2>최신 글</h2>\\n                  <ul style=\"display: block; position: relative; height: 797.562px;\">\\n                    \\n                      <li style=\"position: absolute; left: 0px; top: 0px;\">\\n                        <a href=\"/1467\">\\n                          <span class=\"thum\"><img src=\"//i1.daumcdn.net/thumb/R600x0/?fname=https://blog.kakaocdn.net/dn/TwCgp/btsGGecgZpL/DywL2HgCuULGpzfxzdHIUK/img.png\" alt=\"\"></span>\\n                          \\n                            <span class=\"category\">끄적거림</span>\\n                          \\n                          <span class=\"title\">핑크랩이 잘 하고, 하고 싶은 일</span>\\n                          <span class=\"excerpt\">핑크랩이라는 법인이 만들어진게 2022년 5월 23일입니다. 정말 아무 생각없이 일만하면서 만 2년을 약 한 달 앞두고 있습니다. 한 2년쯤 해보니 이제 핑크랩이 하고 싶은 일들이 조금은 정리가 되는 것 같습니다. 대표이사인 저 또한 너무 제가 하고 싶은 일 위주로 너무 바쁘게 움직이고 있으니.ㅠㅠ. 이제 우리 핑크랩이 하고 싶은 일을 조금 정리해 둘 필요가 있다고 느꼈습니다. 기술 개발 저희는 로봇과 딥러닝이라는 키워드가 들어간 분야에서 비록 작은 규모의 회사이지만, 그런 규모에 비해 많은 활동을 했습니다. 그 중 최근 개발한 재미있는 것들을 짧게 보여드리겠습니다. 관제 시스템 OpenRMF OpenRMF라는 관제 시스템을 이용해서 실제로 로봇 관제를 기술개발한 후 납품을 완료한 것이 최근의 일인데, ..</span>\\n                        </a>\\n                      </li>\\n                    \\n                      <li style=\"position: absolute; left: 333.987px; top: 0px;\">\\n                        <a href=\"/1466\">\\n                          <span class=\"thum\"><img src=\"//i1.daumcdn.net/thumb/R600x0/?fname=https://blog.kakaocdn.net/dn/HPXNR/btsGBa9iwuA/PdOSspidjryAgddsnj0EkK/img.png\" alt=\"\"></span>\\n                          \\n                            <span class=\"category\">Education</span>\\n                          \\n                          <span class=\"title\">실시간 수어 통역 화상 통신 시스템 개발</span>\\n                          <span class=\"excerpt\">제가 참여하거나 수행하는 여러 수업중에 AI 자율주행 과정이라는 국비과정이 있습니다. [저희 수업에 대한 소개는 글 하단에~] 그 과정은 총 4번의 팀프로젝트를 수행하도록 되어 있는데. 그 중 3번째 프로젝트인 딥러닝 프로젝트에 대한 발표 영상 하나를 소개해 드릴려고 합니다. 저는 이렇게 우리 수강생들의 결과를 하나씩 소개하는 일이 너무나 즐겁습니다.^^. 배경 대한민국을 위키백과에서 검색해서 보면 특이한 사항이 하나 보입니다. 일단 면적, 10만 제곱킬로미터로 다른나라랑 면적 비교할때 편합니다. 응? 100만 제곱이 있으면 우리나라의 10배입니다하면 되니까요. 그건 중요한게 아니고, 바로 공용어 입니다. 우리나라의 공용어는 한국어라고 당연히 생각하시겠지만, 한국어와 함께 수어가 공용어로 되어 있습니다...</span>\\n                        </a>\\n                      </li>\\n                    \\n                      <li style=\"position: absolute; left: 667.974px; top: 0px;\">\\n                        <a href=\"/1465\">\\n                          <span class=\"thum\"><img src=\"//i1.daumcdn.net/thumb/R600x0/?fname=https://blog.kakaocdn.net/dn/tjKDQ/btsGCdxaPIi/jIvVFy0ZdPMPc9oNV81441/img.png\" alt=\"\"></span>\\n                          \\n                            <span class=\"category\">Education</span>\\n                          \\n                          <span class=\"title\">AI 자율주행과정 수강생들의 발표 - 딥러닝을 이용한 자율주행 로봇</span>\\n                          <span class=\"excerpt\">제가 참여하거나 수행하는 여러 수업중에 AI 자율주행 과정이라는 국비과정이 있습니다. [저희 수업에 대한 소개는 글 하단에~] 그 과정은 총 4번의 팀프로젝트를 수행하도록 되어 있는데. 그 중 3번째 프로젝트인 딥러닝 프로젝트에 대한 발표 영상 하나를 소개해 드릴려고 합니다. 흠. 프로젝트를 수행하는 기간 동안 제가 자주 지켜보느라 돌아다녔는데요. 그 때 마다 저 이름이 보였는데, 핑크라~라고 읽더군요. 뒤에 왜 저렇게 이름을 지었는지 알 수 있습니다.ㅠㅠ. 저 라즈베리파이5는 제가 어느 날 수업때 하루 종일 고민하는 어떤 주제를 던지고 그 결과를 받았는데 재미있었던 내용으로 제출한 친구에게 상으로 준 것인데, 잘 활용하고 있네요. 아무튼, ROS를 [아직 다 배우지 않았기 때문이기도 하지만] 사용하지 ..</span>\\n                        </a>\\n                      </li>\\n                    \\n                      <li style=\"position: absolute; left: 0px; top: 353.237px;\">\\n                        <a href=\"/1464\">\\n                          <span class=\"thum\"><img src=\"//i1.daumcdn.net/thumb/R600x0/?fname=https://blog.kakaocdn.net/dn/EggAh/btsGe6T5Wnh/MHNbwBxsx95VmuY13JDWo0/img.png\" alt=\"\"></span>\\n                          \\n                            <span class=\"category\">끄적거림</span>\\n                          \\n                          <span class=\"title\">PinkLAB 핑크랩이 기업부설연구소 인증을 받았습니다.</span>\\n                          <span class=\"excerpt\">사실 핑크랩은 원래 1인 기업이었습니다.ㅠㅠ. 그게 일이 생기고, 그 일이 커지고, 뭐 그러면서 벌써 정규직만 5명, 비정규직으로 월급을 받는 경우는 4~6명 사이가 왔다갔다 합니다. 규모는 작은데, 뭔가 계속 일들이 생기는.... 그래서 이러저런 고민을 하다가 핑크랩이 드뎌 기업부설연구소 인증을 받게 되었습니다. 참. 신기하고 또 뿌듯하면서, 또 앞으로 걱정거리도 많아지기 시작했습니다ㅠㅠ. 그래서 기념비적으로 잠시 핑크랩을 이 시점. 한 번 소개해보고 싶었습니다. PinkLAB 우리는 22년 5월 23일에 만들어졌습니다. 그 후 교육컨텐츠와 각종 행사들, 그리고, AI 로봇 관련 기술개발들을 했습니다. 특히 최근에는 관제시스템에 대한 많은 성과를 가지게 되었습니다. 자율주행이나, 관제시스템, 로봇팔, ..</span>\\n                        </a>\\n                      </li>\\n                    \\n                      <li style=\"position: absolute; left: 333.987px; top: 388.462px;\">\\n                        <a href=\"/1463\">\\n                          <span class=\"thum\"><img src=\"//i1.daumcdn.net/thumb/R600x0/?fname=https://blog.kakaocdn.net/dn/UF5Qc/btsGc4vpSgq/Ro3BHmSkK2mW3kKTBTDAKK/img.png\" alt=\"\"></span>\\n                          \\n                            <span class=\"category\">Education</span>\\n                          \\n                          <span class=\"title\">2024 자율주행 SW 교육 및 경진대회[전북지역혁신플랫폼]를 저희 핑크랩이 진행했습니다.</span>\\n                          <span class=\"excerpt\">저희가 참 활동적인 무언가를 사부작사부작 하는 것을 좋아합니다.^^. 아주 예전에 현대 H-Mobility 해커톤 대회를 진행했구요. 그 다음은 비버웍스의 NLP 해커톤 대회를 진행했었죠. 그 후 서울로봇아카데미에서 자율주행과 로봇팔을 활용한 물건정리 관련 교육을 진행하고, WCRC 경진대회도 진행을 했었습니다. 와우~ 그리고 이번에 저희는 전북지역혁신플랫폼(RIS)의 일환으로 진행된 전북대학교의 미래수송기기사업단의 의뢰를 받아서 또 한 번 자율주행 SW 교육 및 경진대회를 진행했었습니다. 저런 멋진 이름의 대회를 또 저희가 진행할 수 있어서 너무나 다행이었지요. 저희 핑크랩이 원래 담당한 부분은 서전교육 실습 파트와 경진대회였습니다. 이번 행사를 위해 저희 핑크랩이 활동한 부분들이 또 많지요^^ 먼저 ..</span>\\n                        </a>\\n                      </li>\\n                    \\n                      <li style=\"position: absolute; left: 667.974px; top: 388.462px;\">\\n                        <a href=\"/1462\">\\n                          <span class=\"thum\"><img src=\"//i1.daumcdn.net/thumb/R600x0/?fname=https://blog.kakaocdn.net/dn/m9pE6/btsFYpkGtzR/o5xtp88nNOW92legQxV5zK/img.png\" alt=\"\"></span>\\n                          \\n                            <span class=\"category\">Robot Program - ROS</span>\\n                          \\n                          <span class=\"title\">ROS/ROS2 사용할 때 Jupyter도 함께 써보세요.</span>\\n                          <span class=\"excerpt\">Jupyter Notebook을 아마 Python으로 딥러닝이나 분석하시는 분들은 많이들 사용하실 겁니다. 저도 VSCode를 많이 쓰지만, Juptyer 애드온을 연결해서 Jupyter로 개발도하고 테스트도 하는데요. 가끔 ROS/ROS2 공부하시는 분들과 대화할때 저런 상황이나 어떤 테스트 환경에서는 jupyter를 써도 될텐데 하면, 그렇게 할 수 있다는 것을 몰랐다며 놀래시는 분들이 간혹있습니다. 제가 소개한 적이 있는 UR로봇과 ROS의 사용 영상에서의 위 그림처럼 ROS 환경이 잘 잡힌 협동로봇도 간단히 Jupyter를 이용해서 기능 테스트가 가능하고, 또 본격적으로 패키지를 만들기 전에 여러 가능성을 손쉽게 테스트할 수 있습니다. 역시 제가 소개한 적이 있는 ROS1에서 movebase를 이..</span>\\n                        </a>\\n                      </li>\\n                    \\n                  </ul>\\n                </div>\\n              </div>\\n            \\n\\n            \\n\\n            \\n\\n          \\n            \\n\\n            \\n\\n            \\n\\n            \\n\\n            \\n              <div class=\"cover-gallery\">\\n                <div class=\"inner\">\\n                  <h2>최근 글 중 인기글 </h2>\\n                  <ul>\\n                    \\n                      <li>\\n                        <a href=\"/1370\">\\n                          <figure>\\n                          <img src=\"//i1.daumcdn.net/thumb/C600x600/?fname=https://blog.kakaocdn.net/dn/niSNt/btrsOiep7uF/6D4W9nELuR0NrQAE1d97S0/img.png\" alt=\"\">\\n                          </figure>\\n                          <span class=\"title\">Python으로 수행하는 주파수 분석 - FFT, STFT</span>\\n                        </a>\\n                      </li>\\n                    \\n                      <li>\\n                        <a href=\"/246\">\\n                          <figure>\\n                          <img src=\"//i1.daumcdn.net/thumb/C600x600/?fname=https://t1.daumcdn.net/cfile/tistory/137F83224B42D6B10A\" alt=\"\">\\n                          </figure>\\n                          <span class=\"title\">[회로이론] RC 회로</span>\\n                        </a>\\n                      </li>\\n                    \\n                      <li>\\n                        <a href=\"/927\">\\n                          <figure>\\n                          <img src=\"//i1.daumcdn.net/thumb/C600x600/?fname=https://t1.daumcdn.net/cfile/tistory/2252954E579D2C3704\" alt=\"\">\\n                          </figure>\\n                          <span class=\"title\">Bode Plot의 기초 중에서도 기초이야기</span>\\n                        </a>\\n                      </li>\\n                    \\n                      <li>\\n                        <a href=\"/1343\">\\n                          <figure>\\n                          <img src=\"//i1.daumcdn.net/thumb/C600x600/?fname=https://blog.kakaocdn.net/dn/ccBYgD/btqYLzK5Rav/Uv4oRVJG0gWS7N3PtUQwsk/img.png\" alt=\"\">\\n                          </figure>\\n                          <span class=\"title\">VSCODE로 SSH로 접근해서 편집 파일을 저장할때 permission 문제</span>\\n                        </a>\\n                      </li>\\n                    \\n                      <li>\\n                        <a href=\"/1217\">\\n                          <figure>\\n                          <img src=\"//i1.daumcdn.net/thumb/C600x600/?fname=https://t1.daumcdn.net/cfile/tistory/99FAC2445CD76CBE3D\" alt=\"\">\\n                          </figure>\\n                          <span class=\"title\">circuito.io 아두이노 주변 회로를 손쉽게 확인하기</span>\\n                        </a>\\n                      </li>\\n                    \\n                      <li>\\n                        <a href=\"/903\">\\n                          <figure>\\n                          <img src=\"//i1.daumcdn.net/thumb/C600x600/?fname=https://t1.daumcdn.net/cfile/tistory/236A444557591B6434\" alt=\"\">\\n                          </figure>\\n                          <span class=\"title\">ROS 3D 시각화 툴 RViz 쉽게 쉽게 처음 시작해보기</span>\\n                        </a>\\n                      </li>\\n                    \\n                      <li>\\n                        <a href=\"/156\">\\n                          <figure>\\n                          <img src=\"//i1.daumcdn.net/thumb/C600x600/?fname=https://t1.daumcdn.net/cfile/tistory/187243194A9A70AC85\" alt=\"\">\\n                          </figure>\\n                          <span class=\"title\">[선형변환] Convolution 컨볼루션 적분</span>\\n                        </a>\\n                      </li>\\n                    \\n                      <li>\\n                        <a href=\"/369\">\\n                          <figure>\\n                          <img src=\"//i1.daumcdn.net/thumb/C600x600/?fname=https://t1.daumcdn.net/cfile/tistory/1435F0024C8D198202\" alt=\"\">\\n                          </figure>\\n                          <span class=\"title\">행렬에서 원하는 데이터의 위치를 알아볼까요??? (MATLAB/Find 명령 사용하기)</span>\\n                        </a>\\n                      </li>\\n                    \\n                  </ul>\\n                </div>\\n              </div>\\n            \\n\\n          \\n            \\n\\n            \\n\\n            \\n\\n            \\n              <div class=\"cover-list\">\\n                <div class=\"inner\">\\n                  <h2>AI 관련 최신글 </h2>\\n                  <ul>\\n                    \\n                      <li>\\n                        <a href=\"/1427\">\\n                          <figure>\\n                            <img src=\"//i1.daumcdn.net/thumb/C600x600/?fname=https://blog.kakaocdn.net/dn/mZyxa/btskllcT9gn/RncR5K8s9eJ03JkKaexNaK/img.png\" alt=\"\">\\n                          </figure>\\n                          \\n                            <span class=\"category\">DeepLearning</span>\\n                          \\n                          <span class=\"title\">영상 인식에 필요한 기초 기법 간편 정리 - ArUCo Marker, YOLO 등</span>\\n                          <span class=\"excerpt\">이번에는 로봇에서 영상인식, 혹은 간단한 프로젝트에서 영상을 인식하는 부분에 대해 간단히 정리해서 유투브에 올렸습니다. 여러가지를 모두 다루면 좋겠지만, 윈도우 환경에서 설명을 했고, OpenCV 기초, ArUCo Marker 이야기, YOLO, YOLO를 위한 라벨링 작업등을 초~간단하게 설명했습니다. 먼저 아래 링크는 영상 전체의 재생목록입니다. https://www.youtube.com/playlist?list=PL83j7f4UkozEKBsOgKNEy79w5ClNMtxSF 영상 인식에 필요한 기법 간편 정리 이번에는 로봇에서 영상인식, 혹은 간단한 프로젝트에서 영상을 인식하는 부분에 대해 간단히 정리해서 유투브에 올렸습니다. 여러가지를 모두 다루면 좋겠지만, 윈도우 환경에서 설명을 했고, www.y..</span>\\n                        </a>\\n                      </li>\\n                    \\n                      <li>\\n                        <a href=\"/1391\">\\n                          <figure>\\n                            <img src=\"//i1.daumcdn.net/thumb/C600x600/?fname=https://blog.kakaocdn.net/dn/6UqKF/btrH5dJLuIH/lUKr0YEdenVK7O5XqAzpo0/img.png\" alt=\"\">\\n                          </figure>\\n                          \\n                            <span class=\"category\">Project</span>\\n                          \\n                          <span class=\"title\">핑크랩이 문제풀이 학습 시장용 유사문제 찾기 알고리즘에 도전합니다.</span>\\n                          <span class=\"excerpt\">제가 자주 하는 말이지만, 희한하게 어떤 주제에 대해 클라이언트 미팅을 하면 유사 분야의 미팅이 (제가 의도하지 않게) 잡히게 됩니다. 그것도 많은 수가 제가 찾아다닌것이 아니라 클라이언트께서 먼저 연락을 주시는 거죠. 이번에는 문제풀이 학습 시장의 의뢰입니다. 머신러닝/딥러닝을 이용해서 유사한 문제를 찾는 것입니다. 프로젝트 개요 입시분야로 한정하면 \"콴다\"라고 하는 업계의 주도적 서비스가 있습니다. 콰다는 이렇게 폰으로 궁금한 문제를 찾아서 사진을 찍으면 OCR로 판독후 AI로 자사 DB에서 유사한 문제를 찾아 그 해법과 함께 제시하는 것인데요. 해당 문제의 해법을 보여주는 것이 아니라 유사한 문제를 보여주는 것입니다. 학습하고 나면 애초에 궁금했던 문제를 풀수 있겠죠. 저희 핑크랩에 의뢰하신 클라이..</span>\\n                        </a>\\n                      </li>\\n                    \\n                      <li>\\n                        <a href=\"/1390\">\\n                          <figure>\\n                            <img src=\"//i1.daumcdn.net/thumb/C600x600/?fname=https://blog.kakaocdn.net/dn/cr4F8u/btrHZ7w3vd5/1ANL4XfTuX4TreGkReDpVK/img.png\" alt=\"\">\\n                          </figure>\\n                          \\n                            <span class=\"category\">Project</span>\\n                          \\n                          <span class=\"title\">핑크랩이 물류로봇에서 사용될 Pose Estimation 프로젝트를 도전합니다.</span>\\n                          <span class=\"excerpt\">아주 예전에 제가 한양대 에리카에 연구교수로 있을 당시 잠시 관계가 있었던 프로젝트 중에 가구조립 프로젝트가 있었습니다. 저는 당시 다른일로 바빠서 대학원생에게 다 맡겨두고 거의 신경을 쓰지 못했었는데요. [지금 생각하니 너무 미안하군요ㅠㅠ] 그때 했던 연구 중에 로봇팔이 물체를 잡기 위해서 해당 물체의 Pose(자세)를 예측해야 더 잘 잡을 수 있을 거라고 생각을 했었습니다. 위 그림은 당시 대학원생이 작업한 것으로 가구조립에 사용되는 다양한 종류의 못을 보여주고 있습니다. 이 못의 자세를 알아야 로봇팔이 잡을 때 편하겠죠. 그래서 당시에 조금 인연이 있었습니다. 뭐가요? 아~ 바로 pose estimation 입니다.^^ 프로젝트 개요 위 그림은 유명한 NVIDIA의 ISAAC 시스템에 포함된 기능으..</span>\\n                        </a>\\n                      </li>\\n                    \\n                  </ul>\\n                </div>\\n              </div>\\n            \\n\\n            \\n\\n          \\n            \\n              <div class=\"cover-thumbnail-list\">\\n                <div class=\"inner\">\\n                  <h2>로봇 관련 최신 글</h2>\\n                  <ul>\\n                    \\n                      <li>\\n                        <a href=\"/1462\">\\n                          <span class=\"thum\"><img src=\"//i1.daumcdn.net/thumb/C264x200/?fname=https://blog.kakaocdn.net/dn/m9pE6/btsFYpkGtzR/o5xtp88nNOW92legQxV5zK/img.png\" alt=\"\"></span>\\n                          \\n                            <span class=\"category\">Robot Program - ROS</span>\\n                          \\n                          <span class=\"title\">ROS/ROS2 사용할 때 Jupyter도 함께 써보세요.</span>\\n                        </a>\\n                      </li>\\n                    \\n                      <li>\\n                        <a href=\"/1461\">\\n                          <span class=\"thum\"><img src=\"//i1.daumcdn.net/thumb/C264x200/?fname=https://blog.kakaocdn.net/dn/Kau3M/btsFQXQOXgz/uMuTbgJiX1tS48Yq4f5zp0/img.png\" alt=\"\"></span>\\n                          \\n                            <span class=\"category\">Robot Program - ROS</span>\\n                          \\n                          <span class=\"title\">로봇 관제 OpenRMF - 핑크랩은 뭐가 다를까요?</span>\\n                        </a>\\n                      </li>\\n                    \\n                      <li>\\n                        <a href=\"/1460\">\\n                          <span class=\"thum\"><img src=\"//i1.daumcdn.net/thumb/C264x200/?fname=https://blog.kakaocdn.net/dn/bEd4EE/btsFR9BRogv/7Df03x8h6bXSC2Pf1z4R81/img.png\" alt=\"\"></span>\\n                          \\n                            <span class=\"category\">Robot Program - ROS</span>\\n                          \\n                          <span class=\"title\">ROS2 처음부터 차근차근 공부하고 싶으시다면 - 무료 R2R 과정 -</span>\\n                        </a>\\n                      </li>\\n                    \\n                      <li>\\n                        <a href=\"/1459\">\\n                          <span class=\"thum\"><img src=\"//i1.daumcdn.net/thumb/C264x200/?fname=https://blog.kakaocdn.net/dn/bF4WQs/btsFHuGgJWo/LFFzUwkFDo1IYSkNtg1iq0/img.png\" alt=\"\"></span>\\n                          \\n                            <span class=\"category\">Robot Module</span>\\n                          \\n                          <span class=\"title\">SLAM을 알아서 해주는 보드 - SLAMBOX를 아시나요?</span>\\n                        </a>\\n                      </li>\\n                    \\n                  </ul>\\n                </div>\\n              </div>\\n            \\n\\n            \\n\\n            \\n\\n            \\n\\n            \\n\\n          \\n            \\n\\n            \\n\\n            \\n\\n            \\n\\n            \\n              <div class=\"cover-gallery\">\\n                <div class=\"inner\">\\n                  <h2>SW 관련 최신글</h2>\\n                  <ul>\\n                    \\n                      <li>\\n                        <a href=\"/1449\">\\n                          <figure>\\n                          <img src=\"//i1.daumcdn.net/thumb/C600x600/?fname=https://blog.kakaocdn.net/dn/cgBjsd/btsAH0qMP9Z/uOJMQhrhaNVJgD2KvqwNKK/img.png\" alt=\"\">\\n                          </figure>\\n                          <span class=\"title\">Ubuntu에서 화면 녹화시 Wayland 관련 에러가 뜰 때</span>\\n                        </a>\\n                      </li>\\n                    \\n                      <li>\\n                        <a href=\"/1443\">\\n                          <figure>\\n                          <img src=\"//i1.daumcdn.net/thumb/C600x600/?fname=https://blog.kakaocdn.net/dn/b4iApG/btszsDKa5OE/yZ8UQudGyXELeGoDcchhK1/img.png\" alt=\"\">\\n                          </figure>\\n                          <span class=\"title\">Ubuntu PC로 SSH 접근하려고 할 때 문제가 생기면...</span>\\n                        </a>\\n                      </li>\\n                    \\n                      <li>\\n                        <a href=\"/1434\">\\n                          <figure>\\n                          <img src=\"//i1.daumcdn.net/thumb/C600x600/?fname=https://blog.kakaocdn.net/dn/cLY2PF/btsrIeDBg5f/WHiwgYhUPitoRJcFGH3zr0/img.png\" alt=\"\">\\n                          </figure>\\n                          <span class=\"title\">우분투와 원도우를 듀얼부팅할 때 두 OS에 시간이 안 맞을 때</span>\\n                        </a>\\n                      </li>\\n                    \\n                      <li>\\n                        <a href=\"/1430\">\\n                          <figure>\\n                          <img src=\"//i1.daumcdn.net/thumb/C600x600/?fname=https://blog.kakaocdn.net/dn/cWgt1o/btsl9uFwOZ4/7WPMGbKy99lEZMrllKyHRK/img.png\" alt=\"\">\\n                          </figure>\\n                          <span class=\"title\">맥 터미널 xcrun: error: invalid active developer path 대응방법</span>\\n                        </a>\\n                      </li>\\n                    \\n                  </ul>\\n                </div>\\n              </div>\\n            \\n\\n          \\n            \\n\\n            \\n\\n            \\n\\n            \\n\\n            \\n              <div class=\"cover-gallery\">\\n                <div class=\"inner\">\\n                  <h2>HW 관련 최신글 </h2>\\n                  <ul>\\n                    \\n                      <li>\\n                        <a href=\"/1451\">\\n                          <figure>\\n                          <img src=\"//i1.daumcdn.net/thumb/C600x600/?fname=https://blog.kakaocdn.net/dn/KQ4JG/btsBl4SA0bo/bXUjndRZdNDgTKAULoRDN1/img.png\" alt=\"\">\\n                          </figure>\\n                          <span class=\"title\">괜찮은 미니 PC Khadas mind를 소개합니다.</span>\\n                        </a>\\n                      </li>\\n                    \\n                      <li>\\n                        <a href=\"/1436\">\\n                          <figure>\\n                          <img src=\"//i1.daumcdn.net/thumb/C600x600/?fname=https://blog.kakaocdn.net/dn/cMHGMa/btssBp0kkkv/VALsqg1Ki0hpxLkPrnNDtk/img.png\" alt=\"\">\\n                          </figure>\\n                          <span class=\"title\">애플 광택용 천 Polishing Cloth</span>\\n                        </a>\\n                      </li>\\n                    \\n                      <li>\\n                        <a href=\"/1432\">\\n                          <figure>\\n                          <img src=\"//i1.daumcdn.net/thumb/C600x600/?fname=https://blog.kakaocdn.net/dn/c1mGwb/btsqJcn35Bx/xJ9hyWbOQw1zR5Ui1TGlN0/img.png\" alt=\"\">\\n                          </figure>\\n                          <span class=\"title\">Arduino R4 WIFI 모델을 소개합니다.</span>\\n                        </a>\\n                      </li>\\n                    \\n                      <li>\\n                        <a href=\"/1401\">\\n                          <figure>\\n                          <img src=\"//i1.daumcdn.net/thumb/C600x600/?fname=https://blog.kakaocdn.net/dn/l6aUJ/btrSaskcqgx/9ODs6Tm1FuSisw8CRD5uJ0/img.png\" alt=\"\">\\n                          </figure>\\n                          <span class=\"title\">Lattepanda 라떼판다에 ubuntu 22.04 설치하기</span>\\n                        </a>\\n                      </li>\\n                    \\n                  </ul>\\n                </div>\\n              </div>\\n            \\n\\n          \\n            \\n\\n            \\n\\n            \\n\\n            \\n\\n            \\n              <div class=\"cover-gallery\">\\n                <div class=\"inner\">\\n                  <h2>문화 생활 관련 최신 글 </h2>\\n                  <ul>\\n                    \\n                      <li>\\n                        <a href=\"/1448\">\\n                          <figure>\\n                          <img src=\"//i1.daumcdn.net/thumb/C600x600/?fname=https://blog.kakaocdn.net/dn/cLcGmM/btsAw5lkuti/QQ5ce7PIsIkoVzStsuYwi0/img.png\" alt=\"\">\\n                          </figure>\\n                          <span class=\"title\">싱가폴 만다린 오리엔탈 호텔 - 매우 훌륭하고 좋은 호텔입니다.</span>\\n                        </a>\\n                      </li>\\n                    \\n                      <li>\\n                        <a href=\"/1444\">\\n                          <figure>\\n                          <img src=\"//i1.daumcdn.net/thumb/C600x600/?fname=https://blog.kakaocdn.net/dn/cVCFEN/btszH60l6R5/5skG9yfyNfWfu1JoDOt120/img.png\" alt=\"\">\\n                          </figure>\\n                          <span class=\"title\">인하대 교명의 유래를 아시나요?</span>\\n                        </a>\\n                      </li>\\n                    \\n                      <li>\\n                        <a href=\"/1439\">\\n                          <figure>\\n                          <img src=\"//i1.daumcdn.net/thumb/C600x600/?fname=https://blog.kakaocdn.net/dn/3iJIz/btsyTvfDTVb/0yEt4sAN2Agk2wbnK8KsCk/img.png\" alt=\"\">\\n                          </figure>\\n                          <span class=\"title\">싱가폴 나이트 사파리 쇼 - Singapore Night Safari Show</span>\\n                        </a>\\n                      </li>\\n                    \\n                      <li>\\n                        <a href=\"/1412\">\\n                          <figure>\\n                          <img src=\"//i1.daumcdn.net/thumb/C600x600/?fname=https://blog.kakaocdn.net/dn/ZErdc/btrW764GoBA/knFMkWSIvOGOf7Qkj6NPg1/img.png\" alt=\"\">\\n                          </figure>\\n                          <span class=\"title\">Guam 괌 마리나 그릴 Marina Grill 돌핀 투어 전에 식사하기 좋은곳</span>\\n                        </a>\\n                      </li>\\n                    \\n                  </ul>\\n                </div>\\n              </div>\\n            \\n\\n          \\n            \\n\\n            \\n\\n            \\n\\n            \\n\\n            \\n              <div class=\"cover-gallery\">\\n                <div class=\"inner\">\\n                  <h2>일상생활 관련 최신 글</h2>\\n                  <ul>\\n                    \\n                      <li>\\n                        <a href=\"/1467\">\\n                          <figure>\\n                          <img src=\"//i1.daumcdn.net/thumb/C600x600/?fname=https://blog.kakaocdn.net/dn/TwCgp/btsGGecgZpL/DywL2HgCuULGpzfxzdHIUK/img.png\" alt=\"\">\\n                          </figure>\\n                          <span class=\"title\">핑크랩이 잘 하고, 하고 싶은 일</span>\\n                        </a>\\n                      </li>\\n                    \\n                      <li>\\n                        <a href=\"/1464\">\\n                          <figure>\\n                          <img src=\"//i1.daumcdn.net/thumb/C600x600/?fname=https://blog.kakaocdn.net/dn/EggAh/btsGe6T5Wnh/MHNbwBxsx95VmuY13JDWo0/img.png\" alt=\"\">\\n                          </figure>\\n                          <span class=\"title\">PinkLAB 핑크랩이 기업부설연구소 인증을 받았습니다.</span>\\n                        </a>\\n                      </li>\\n                    \\n                      <li>\\n                        <a href=\"/1438\">\\n                          <figure>\\n                          <img src=\"//i1.daumcdn.net/thumb/C600x600/?fname=https://blog.kakaocdn.net/dn/ctuiFP/btsufiRCeKr/7W66Rkxmx0yCxbbGdU9PaK/img.png\" alt=\"\">\\n                          </figure>\\n                          <span class=\"title\">PinkLAB 핑크랩 공식 로고를 발표합니다.</span>\\n                        </a>\\n                      </li>\\n                    \\n                      <li>\\n                        <a href=\"/1437\">\\n                          <figure>\\n                          <img src=\"//i1.daumcdn.net/thumb/C600x600/?fname=https://blog.kakaocdn.net/dn/xcqv4/btssCtIb75K/inkPpKbiKkvCePgH5ZWD9K/img.png\" alt=\"\">\\n                          </figure>\\n                          <span class=\"title\">핑크랩이 이사를 했습니다.</span>\\n                        </a>\\n                      </li>\\n                    \\n                  </ul>\\n                </div>\\n              </div>\\n            \\n\\n          \\n\\n          <div class=\"cover-footer\">\\n            \\n            \\n            <div class=\"social-link\">\\n              \\n              \\n              \\n              \\n            </div>\\n            <nav class=\"menu\">\\n              <ul>\\n  <li class=\"t_menu_link_1 first\"><a href=\"https://www.pinklab.art/\" target=\"_black\">PinkLAB</a></li>\\n  <li class=\"t_menu_link_2\"><a href=\"https://www.linkedin.com/in/pinkwink\" target=\"_black\">PinkWink 프로필</a></li>\\n  <li class=\"t_menu_tag\"><a href=\"/tag/미바뤼\" target=\"\">아기 미바뤼</a></li>\\n  <li class=\"t_menu_link_3\"><a href=\"http://pinkwink.kr/793\" target=\"\">연재 목록</a></li>\\n  <li class=\"t_menu_link_4\"><a href=\"https://www.facebook.com/hyunggi.min.16/\" target=\"_black\">페이스북</a></li>\\n  <li class=\"t_menu_link_5\"><a href=\"https://www.youtube.com/user/pinkwink95\" target=\"_black\">유투브</a></li>\\n  <li class=\"t_menu_link_6\"><a href=\"https://github.com/PinkWink\" target=\"_black\">Github</a></li>\\n  <li class=\"t_menu_guestbook last\"><a href=\"/guestbook\" target=\"\">GuestBook</a></li>\\n</ul>\\n            </nav>\\n          </div>\\n        \\n\\n      \\n\\n      \\n\\n      \\n\\n      <div class=\"inner\">\\n        \\n\\n                \\n        <script async=\"\" src=\"https://pagead2.googlesyndication.com/pagead/js/adsbygoogle.js?client=ca-pub-2982459700139266\" crossorigin=\"anonymous\" data-checked-head=\"true\"></script>\\n<ins class=\"adsbygoogle\" style=\"display: block; height: 430px;\" data-ad-format=\"autorelaxed\" data-ad-client=\"ca-pub-2982459700139266\" data-ad-slot=\"4966491850\" data-adsbygoogle-status=\"done\"><div id=\"aswift_1_host\" style=\"border: none; height: 430px; width: 860px; margin: 0px; padding: 0px; position: relative; visibility: visible; background-color: transparent; display: inline-block;\"></div></ins>\\n<script>\\n     (adsbygoogle = window.adsbygoogle || []).push({});\\n</script>\\n      </div>\\n\\n      \\n\\n      \\n\\n      \\n\\n    </article>\\n\\n  \\n  </section>\\n  <hr>\\n  <div class=\"revenue_unit_wrap position_list\">\\n  <div class=\"revenue_unit_item adsense responsive\">\\n    <div class=\"revenue_unit_info\">반응형</div>\\n    <script src=\"//pagead2.googlesyndication.com/pagead/js/adsbygoogle.js\" async=\"async\"></script>\\n    <ins class=\"adsbygoogle\" style=\"display: block; height: 280px;\" data-ad-host=\"ca-host-pub-9691043933427338\" data-ad-client=\"ca-pub-2982459700139266\" data-ad-format=\"auto\" data-adsbygoogle-status=\"done\"><div id=\"aswift_2_host\" style=\"border: none; height: 280px; width: 860px; margin: 0px; padding: 0px; position: relative; visibility: visible; background-color: transparent; display: inline-block;\"></div></ins>\\n    <script>(adsbygoogle = window.adsbygoogle || []).push({});</script>\\n  </div>\\n</div>\\n  <footer id=\"footer\">\\n    <p class=\"copyright\">DESIGN BY <a href=\"#\">TISTORY</a> <a href=\"https://pinkwink.tistory.com/manage\" class=\"admin\">관리자</a></p>\\n  </footer>\\n</div>\\n<script src=\"https://tistory1.daumcdn.net/tistory/371175/skin/images/script.js?_version_=1687613150\"></script>\\n\\n\\n\\n<script async=\"\" src=\"//pagead2.googlesyndication.com/pagead/js/adsbygoogle.js\"></script>\\n<div class=\"#menubar menu_toolbar \">\\n  <h2 class=\"screen_out\">티스토리툴바</h2>\\n</div>\\n<div class=\"#menubar menu_toolbar \"></div>\\n<div class=\"layer_tooltip\">\\n  <div class=\"inner_layer_tooltip\">\\n    <p class=\"desc_g\"></p>\\n  </div>\\n</div>\\n<iframe id=\"editEntry\" style=\"position:absolute;width:1px;height:1px;left:-100px;top:-100px\" src=\"//pinkwink.tistory.com/api\"></iframe>\\n\\n                        <!-- SyntaxHighlight - START -->\\n        <link href=\"//cdnjs.cloudflare.com/ajax/libs/highlight.js/10.7.3/styles/github.min.css\" rel=\"stylesheet\"><script src=\"//cdnjs.cloudflare.com/ajax/libs/highlight.js/10.7.3/highlight.min.js\"></script>\\n<script src=\"//cdnjs.cloudflare.com/ajax/libs/highlight.js/10.7.3/languages/delphi.min.js\"></script>\\n<script src=\"//cdnjs.cloudflare.com/ajax/libs/highlight.js/10.7.3/languages/php.min.js\"></script>\\n<script src=\"//cdnjs.cloudflare.com/ajax/libs/highlight.js/10.7.3/languages/python.min.js\"></script>\\n<script src=\"//cdnjs.cloudflare.com/ajax/libs/highlight.js/10.7.3/languages/r.min.js\" defer=\"\"></script>\\n<script src=\"//cdnjs.cloudflare.com/ajax/libs/highlight.js/10.7.3/languages/ruby.min.js\"></script>\\n<script src=\"//cdnjs.cloudflare.com/ajax/libs/highlight.js/10.7.3/languages/scala.min.js\" defer=\"\"></script>\\n<script src=\"//cdnjs.cloudflare.com/ajax/libs/highlight.js/10.7.3/languages/shell.min.js\"></script>\\n<script src=\"//cdnjs.cloudflare.com/ajax/libs/highlight.js/10.7.3/languages/sql.min.js\"></script>\\n<script src=\"//cdnjs.cloudflare.com/ajax/libs/highlight.js/10.7.3/languages/swift.min.js\" defer=\"\"></script>\\n<script src=\"//cdnjs.cloudflare.com/ajax/libs/highlight.js/10.7.3/languages/typescript.min.js\" defer=\"\"></script>\\n<script src=\"//cdnjs.cloudflare.com/ajax/libs/highlight.js/10.7.3/languages/vbnet.min.js\" defer=\"\"></script>\\n  <script>hljs.initHighlightingOnLoad();</script>\\n\\n\\n        <!-- SyntaxHighlight - END -->\\n\\n                \\n                <script type=\"text/javascript\">(function($) {\\n    $(document).ready(function() {\\n        lightbox.options.fadeDuration = 200;\\n        lightbox.options.resizeDuration = 200;\\n        lightbox.options.wrapAround = false;\\n        lightbox.options.albumLabel = \"%1 / %2\";\\n    })\\n})(tjQuery);</script>\\n<div style=\"margin:0; padding:0; border:none; background:none; float:none; clear:none; z-index:0\"></div>\\n<script type=\"text/javascript\" src=\"https://tistory1.daumcdn.net/tistory_admin/userblog/tistory-fda325030f650f8bb6efdfbc900c54d5af6cf662/static/script/common.js\"></script>\\n<script type=\"text/javascript\">window.roosevelt_params_queue = window.roosevelt_params_queue || [{channel_id: \\'dk\\', channel_label: \\'{tistory}\\'}]</script>\\n<script type=\"text/javascript\" src=\"//t1.daumcdn.net/midas/rt/dk_bt/roosevelt_dk_bt.js\" async=\"async\"></script>\\n<script type=\"text/javascript\" src=\"https://tistory1.daumcdn.net/tistory_admin/userblog/tistory-fda325030f650f8bb6efdfbc900c54d5af6cf662/static/script/menubar.min.js\"></script>\\n\\n                \\n                <script>window.tiara = {\"svcDomain\":\"user.tistory.com\",\"section\":\"홈\",\"trackPage\":\"홈_보기\",\"page\":\"홈\",\"key\":\"371175\",\"customProps\":{\"userId\":\"0\",\"blogId\":\"371175\",\"entryId\":\"null\",\"role\":\"guest\",\"trackPage\":\"홈_보기\",\"filterTarget\":false},\"entry\":null,\"kakaoAppKey\":\"3e6ddd834b023f24221217e370daed18\",\"appUserId\":\"null\"}</script>\\n<script type=\"module\" src=\"https://t1.daumcdn.net/tistory_admin/frontend/tiara/v1.0.0/index.js\"></script>\\n<script src=\"https://t1.daumcdn.net/tistory_admin/frontend/tiara/v1.0.0/polyfills-legacy.min.js\" nomodule=\"true\" defer=\"true\"></script>\\n<script src=\"https://t1.daumcdn.net/tistory_admin/frontend/tiara/v1.0.0/index-legacy.js\" nomodule=\"true\" defer=\"true\"></script>\\n\\n                \\n\\n<div id=\"lightboxOverlay\" class=\"lightboxOverlay\" style=\"display: none;\"></div><div id=\"lightbox\" class=\"lightbox\" style=\"display: none;\"><div class=\"lb-outerContainer\"><div class=\"lb-container\"><img class=\"lb-image\" src=\"data:image/gif;base64,R0lGODlhAQABAIAAAP///wAAACH5BAEAAAAALAAAAAABAAEAAAICRAEAOw==\"><div class=\"lb-nav\"><a class=\"lb-prev\" href=\"\"></a><a class=\"lb-next\" href=\"\"></a></div><div class=\"lb-loader\"><a class=\"lb-cancel\"></a></div></div></div><div class=\"lb-dataContainer\"><div class=\"lb-data\"><div class=\"lb-details\"><span class=\"lb-caption\"></span><span class=\"lb-number\"></span></div><div class=\"lb-closeContainer\"><a class=\"lb-close\"></a></div></div></div></div><ins class=\"adsbygoogle adsbygoogle-noablate\" data-adsbygoogle-status=\"done\" style=\"display: none !important;\" data-ad-status=\"unfilled\"><div id=\"aswift_0_host\" style=\"border: none; height: 0px; width: 0px; margin: 0px; padding: 0px; position: relative; visibility: visible; background-color: transparent; display: inline-block;\"><iframe id=\"aswift_0\" name=\"aswift_0\" style=\"left:0;position:absolute;top:0;border:0;width:undefinedpx;height:undefinedpx;\" sandbox=\"allow-forms allow-popups allow-popups-to-escape-sandbox allow-same-origin allow-scripts allow-top-navigation-by-user-activation\" frameborder=\"0\" marginwidth=\"0\" marginheight=\"0\" vspace=\"0\" hspace=\"0\" allowtransparency=\"true\" scrolling=\"no\" src=\"https://googleads.g.doubleclick.net/pagead/ads?client=ca-pub-2982459700139266&amp;output=html&amp;adk=2654006795&amp;adf=462269707&amp;abgtt=6&amp;lmt=1714870568&amp;plat=3%3A65536%2C4%3A65536%2C9%3A32776%2C16%3A8388608%2C17%3A32%2C24%3A32%2C25%3A32%2C30%3A34603008%2C32%3A32%2C41%3A32%2C42%3A32&amp;format=0x0&amp;url=https%3A%2F%2Fpinkwink.kr%2F&amp;host=ca-host-pub-9691043933427338&amp;pra=5&amp;wgl=1&amp;easpi=0&amp;aihb=0&amp;asro=0&amp;uach=WyJXaW5kb3dzIiwiMTUuMC4wIiwieDg2IiwiIiwiMTI0LjAuNjM2Ny4xMTkiLG51bGwsMCxudWxsLCI2NCIsW1siQ2hyb21pdW0iLCIxMjQuMC42MzY3LjExOSJdLFsiR29vZ2xlIENocm9tZSIsIjEyNC4wLjYzNjcuMTE5Il0sWyJOb3QtQS5CcmFuZCIsIjk5LjAuMC4wIl1dLDBd&amp;dt=1714870568429&amp;bpp=2&amp;bdt=1007&amp;idt=458&amp;shv=r20240501&amp;mjsv=m202405010101&amp;ptt=9&amp;saldr=aa&amp;abxe=1&amp;cookie_enabled=1&amp;eoidce=1&amp;nras=1&amp;correlator=8750857496500&amp;frm=20&amp;pv=2&amp;ga_vid=1159575000.1714870569&amp;ga_sid=1714870569&amp;ga_hid=1481961462&amp;ga_fc=1&amp;u_tz=540&amp;u_his=2&amp;u_h=864&amp;u_w=1536&amp;u_ah=816&amp;u_aw=1536&amp;u_cd=24&amp;u_sd=1.25&amp;dmc=8&amp;adx=-12245933&amp;ady=-12245933&amp;biw=1019&amp;bih=651&amp;scr_x=0&amp;scr_y=0&amp;eid=44759876%2C44759927%2C44759842%2C31082702%2C95331982%2C31083323%2C95331042&amp;oid=2&amp;pvsid=981632565878904&amp;tmod=1669186123&amp;uas=0&amp;nvt=1&amp;fsapi=1&amp;fc=1920&amp;brdim=9%2C9%2C9%2C9%2C1536%2C0%2C1051%2C798%2C1036%2C651&amp;vis=1&amp;rsz=%7C%7Cs%7C&amp;abl=NS&amp;fu=32768&amp;bc=31&amp;bz=1.01&amp;psd=W251bGwsbnVsbCxudWxsLDNd&amp;ifi=1&amp;uci=a!1&amp;fsb=1&amp;dtd=483\" data-google-container-id=\"a!1\" tabindex=\"0\" title=\"Advertisement\" aria-label=\"Advertisement\" data-load-complete=\"true\"></iframe></div></ins><iframe name=\"googlefcPresent\" style=\"display: none; width: 0px; height: 0px; border: none; z-index: -1000; left: -1000px; top: -1000px;\"></iframe><ins class=\"adsbygoogle adsbygoogle-noablate\" data-adsbygoogle-status=\"done\" data-anchor-status=\"ready-to-display\" data-ad-status=\"filled\" style=\"display: block; width: 100% !important; height: 129px !important; bottom: -117.561px; clear: none !important; float: none !important; left: 0px; margin: 0px !important; max-height: none !important; max-width: none !important; opacity: 1; overflow: visible !important; padding: 0px !important; position: fixed; right: auto !important; top: auto !important; vertical-align: baseline !important; visibility: visible !important; z-index: 2147483647; background: rgb(250, 250, 250) !important;\"><div class=\"grippy-host\"></div><div id=\"aswift_4_host\" style=\"border: none !important; height: 124px !important; width: 100% !important; margin: 0px !important; padding: 0px !important; position: relative !important; visibility: visible !important; background-color: transparent !important; display: inline-block !important; inset: auto !important; clear: none !important; float: none !important; max-height: none !important; max-width: none !important; opacity: 1 !important; overflow: visible !important; vertical-align: baseline !important; z-index: auto !important;\"><iframe id=\"aswift_4\" name=\"aswift_4\" style=\"width: 1005px !important; height: 124px !important; display: block; margin: 0px auto;\" sandbox=\"allow-forms allow-popups allow-popups-to-escape-sandbox allow-same-origin allow-scripts allow-top-navigation-by-user-activation\" width=\"1005\" height=\"124\" frameborder=\"0\" marginwidth=\"0\" marginheight=\"0\" vspace=\"0\" hspace=\"0\" allowtransparency=\"true\" scrolling=\"no\" src=\"https://googleads.g.doubleclick.net/pagead/html/r20240501/r20110914/zrt_lookup_fy2021.html#RS-1-&amp;adk=2654006791&amp;client=ca-pub-2982459700139266&amp;fa=1&amp;ifi=5&amp;uci=a!5&amp;btvi=1\" data-google-container-id=\"a!5\" tabindex=\"0\" title=\"Advertisement\" aria-label=\"Advertisement\" data-google-query-id=\"CJmp69im9YUDFSzNTAIdMsEGEA\" data-load-complete=\"true\"></iframe></div></ins><iframe name=\"__tcfapiLocator\" src=\"about:blank\" style=\"display: none; width: 0px; height: 0px; border: none; z-index: -1000; left: -1000px; top: -1000px;\"></iframe><iframe name=\"googlefcInactive\" src=\"about:blank\" style=\"display: none; width: 0px; height: 0px; border: none; z-index: -1000; left: -1000px; top: -1000px;\"></iframe><iframe name=\"googlefcLoaded\" src=\"about:blank\" style=\"display: none; width: 0px; height: 0px; border: none; z-index: -1000; left: -1000px; top: -1000px;\"></iframe><iframe src=\"https://www.google.com/recaptcha/api2/aframe\" width=\"0\" height=\"0\" style=\"display: none;\"></iframe></body><iframe id=\"google_esf\" name=\"google_esf\" src=\"https://googleads.g.doubleclick.net/pagead/html/r20240501/r20110914/zrt_lookup_fy2021.html\" style=\"display: none;\"></iframe><ins class=\"adsbygoogle adsbygoogle-noablate\" data-adsbygoogle-status=\"done\" style=\"display: none !important; width: 100vw !important; height: 100vh !important; inset: 0px auto auto 0px !important; clear: none !important; float: none !important; margin: 0px !important; max-height: none !important; max-width: none !important; opacity: 1 !important; overflow: visible !important; padding: 0px !important; position: fixed !important; vertical-align: baseline !important; visibility: visible !important; z-index: 2147483647 !important; background: transparent !important;\" aria-hidden=\"true\" data-ad-status=\"filled\" data-vignette-loaded=\"true\"><div id=\"aswift_3_host\" style=\"border: none !important; height: 100vh !important; width: 100vw !important; margin: 0px !important; padding: 0px !important; position: relative !important; visibility: visible !important; background-color: transparent !important; display: inline-block !important; inset: auto !important; clear: none !important; float: none !important; max-height: none !important; max-width: none !important; opacity: 1 !important; overflow: visible !important; vertical-align: baseline !important; z-index: auto !important;\"><iframe id=\"aswift_3\" name=\"aswift_3\" style=\"width: 100vw !important; height: 100vh !important; inset: 0px auto auto 0px !important; position: absolute !important; clear: none !important; display: inline !important; float: none !important; margin: 0px !important; max-height: none !important; max-width: none !important; opacity: 1 !important; overflow: visible !important; padding: 0px !important; vertical-align: baseline !important; visibility: visible !important; z-index: auto !important;\" sandbox=\"allow-forms allow-popups allow-popups-to-escape-sandbox allow-same-origin allow-scripts allow-top-navigation-by-user-activation\" width=\"\" height=\"\" frameborder=\"0\" marginwidth=\"0\" marginheight=\"0\" vspace=\"0\" hspace=\"0\" allowtransparency=\"true\" scrolling=\"no\" src=\"https://googleads.g.doubleclick.net/pagead/html/r20240501/r20110914/zrt_lookup_fy2021.html#RS-0-&amp;adk=2654006798&amp;client=ca-pub-2982459700139266&amp;fa=8&amp;ifi=4&amp;uci=a!4\" data-google-container-id=\"a!4\" tabindex=\"0\" title=\"Advertisement\" aria-label=\"Advertisement\" data-google-query-id=\"CJap69im9YUDFSzNTAIdMsEGEA\" data-load-complete=\"true\"></iframe></div></ins></html>'"
      ]
     },
     "execution_count": 4,
     "metadata": {},
     "output_type": "execute_result"
    }
   ],
   "source": [
    "#현재 화면에 html 코드 가져오기\n",
    "driver.page_source"
   ]
  },
  {
   "cell_type": "code",
   "execution_count": 6,
   "id": "0c19307f-ad7d-41fa-9466-10b3ec7ae63a",
   "metadata": {},
   "outputs": [],
   "source": [
    "from bs4 import BeautifulSoup\n",
    "\n",
    "req = driver.page_source\n",
    "soup = BeautifulSoup(req,'html.parser')"
   ]
  },
  {
   "cell_type": "code",
   "execution_count": 9,
   "id": "6bbf0cc9-d909-4636-bbe7-5428af57f3ad",
   "metadata": {},
   "outputs": [
    {
     "data": {
      "text/plain": [
       "9"
      ]
     },
     "execution_count": 9,
     "metadata": {},
     "output_type": "execute_result"
    }
   ],
   "source": [
    "contents= soup.select('.excerpt')\n",
    "len(contents)"
   ]
  },
  {
   "cell_type": "code",
   "execution_count": 10,
   "id": "a563dfc4-4d6c-4655-bedd-3981eacff389",
   "metadata": {},
   "outputs": [
    {
     "data": {
      "text/plain": [
       "<span class=\"excerpt\">핑크랩이라는 법인이 만들어진게 2022년 5월 23일입니다. 정말 아무 생각없이 일만하면서 만 2년을 약 한 달 앞두고 있습니다. 한 2년쯤 해보니 이제 핑크랩이 하고 싶은 일들이 조금은 정리가 되는 것 같습니다. 대표이사인 저 또한 너무 제가 하고 싶은 일 위주로 너무 바쁘게 움직이고 있으니.ㅠㅠ. 이제 우리 핑크랩이 하고 싶은 일을 조금 정리해 둘 필요가 있다고 느꼈습니다. 기술 개발 저희는 로봇과 딥러닝이라는 키워드가 들어간 분야에서 비록 작은 규모의 회사이지만, 그런 규모에 비해 많은 활동을 했습니다. 그 중 최근 개발한 재미있는 것들을 짧게 보여드리겠습니다. 관제 시스템 OpenRMF OpenRMF라는 관제 시스템을 이용해서 실제로 로봇 관제를 기술개발한 후 납품을 완료한 것이 최근의 일인데, ..</span>"
      ]
     },
     "execution_count": 10,
     "metadata": {},
     "output_type": "execute_result"
    }
   ],
   "source": [
    "contents[0]"
   ]
  },
  {
   "cell_type": "code",
   "execution_count": null,
   "id": "4712d77e-45b7-42c7-809c-9690ffcbf6c7",
   "metadata": {},
   "outputs": [],
   "source": []
  }
 ],
 "metadata": {
  "kernelspec": {
   "display_name": "Python 3 (ipykernel)",
   "language": "python",
   "name": "python3"
  },
  "language_info": {
   "codemirror_mode": {
    "name": "ipython",
    "version": 3
   },
   "file_extension": ".py",
   "mimetype": "text/x-python",
   "name": "python",
   "nbconvert_exporter": "python",
   "pygments_lexer": "ipython3",
   "version": "3.8.19"
  }
 },
 "nbformat": 4,
 "nbformat_minor": 5
}
